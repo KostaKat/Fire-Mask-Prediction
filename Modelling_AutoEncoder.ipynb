{
  "metadata": {
    "kernelspec": {
      "display_name": "Python 3",
      "name": "python3"
    },
    "language_info": {
      "name": "python",
      "version": "3.7.10",
      "mimetype": "text/x-python",
      "codemirror_mode": {
        "name": "ipython",
        "version": 3
      },
      "pygments_lexer": "ipython3",
      "nbconvert_exporter": "python",
      "file_extension": ".py"
    },
    "kaggle": {
      "accelerator": "gpu",
      "dataSources": [
        {
          "sourceId": 2824184,
          "sourceType": "datasetVersion",
          "datasetId": 1726926
        }
      ],
      "dockerImageVersionId": 30145,
      "isInternetEnabled": true,
      "language": "python",
      "sourceType": "notebook",
      "isGpuEnabled": true
    },
    "colab": {
      "provenance": [],
      "gpuType": "T4",
      "include_colab_link": true
    },
    "accelerator": "GPU"
  },
  "nbformat_minor": 0,
  "nbformat": 4,
  "cells": [
    {
      "cell_type": "markdown",
      "metadata": {
        "id": "view-in-github",
        "colab_type": "text"
      },
      "source": [
        "<a href=\"https://colab.research.google.com/github/KostaKat/Fire-Mask-Prediction/blob/baseline/Modelling_AutoEncoder.ipynb\" target=\"_parent\"><img src=\"https://colab.research.google.com/assets/colab-badge.svg\" alt=\"Open In Colab\"/></a>"
      ]
    },
    {
      "source": [
        "# IMPORTANT: RUN THIS CELL IN ORDER TO IMPORT YOUR KAGGLE DATA SOURCES,\n",
        "# THEN FEEL FREE TO DELETE THIS CELL.\n",
        "# NOTE: THIS NOTEBOOK ENVIRONMENT DIFFERS FROM KAGGLE'S PYTHON\n",
        "# ENVIRONMENT SO THERE MAY BE MISSING LIBRARIES USED BY YOUR\n",
        "# NOTEBOOK.\n",
        "import kagglehub\n",
        "fantineh_next_day_wildfire_spread_path = kagglehub.dataset_download('fantineh/next-day-wildfire-spread')\n",
        "\n",
        "print('Data source import complete.')\n"
      ],
      "metadata": {
        "id": "Y-ME6XoCWSxa",
        "colab": {
          "base_uri": "https://localhost:8080/"
        },
        "outputId": "35678b8e-2cb4-4fb4-c23d-39cccf63e72c"
      },
      "cell_type": "code",
      "outputs": [
        {
          "output_type": "stream",
          "name": "stdout",
          "text": [
            "Warning: Looks like you're using an outdated `kagglehub` version, please consider updating (latest version: 0.3.4)\n",
            "Downloading from https://www.kaggle.com/api/v1/datasets/download/fantineh/next-day-wildfire-spread?dataset_version_number=2...\n"
          ]
        },
        {
          "output_type": "stream",
          "name": "stderr",
          "text": [
            "100%|██████████| 2.08G/2.08G [00:35<00:00, 63.6MB/s]"
          ]
        },
        {
          "output_type": "stream",
          "name": "stdout",
          "text": [
            "Extracting files...\n"
          ]
        },
        {
          "output_type": "stream",
          "name": "stderr",
          "text": [
            "\n"
          ]
        },
        {
          "output_type": "stream",
          "name": "stdout",
          "text": [
            "Data source import complete.\n"
          ]
        }
      ],
      "execution_count": 1
    },
    {
      "cell_type": "markdown",
      "source": [
        "# Load libraries"
      ],
      "metadata": {
        "id": "uPojRlNQPJub"
      }
    },
    {
      "cell_type": "markdown",
      "source": [
        "Import the required libraries."
      ],
      "metadata": {
        "id": "oOtnY2y8Om-1"
      }
    },
    {
      "cell_type": "code",
      "source": [
        "import re\n",
        "from typing import Dict, List, Optional, Text, Tuple\n",
        "import matplotlib.pyplot as plt\n",
        "from matplotlib import colors\n",
        "\n",
        "import tensorflow as tf\n",
        "import numpy as np\n",
        "\n",
        "\n",
        "from tqdm import tqdm\n",
        "from typing import Callable, Tuple\n",
        "\n",
        "from tensorflow.keras.layers import *\n",
        "from tensorflow.keras.models import Model\n",
        "\n",
        "from tensorflow.keras import backend as K\n",
        "from tensorflow.python.keras.utils.losses_utils import reduce_weighted_loss"
      ],
      "metadata": {
        "id": "1Mf4kbp8yOxd",
        "execution": {
          "iopub.status.busy": "2024-04-12T21:56:57.717622Z",
          "iopub.execute_input": "2024-04-12T21:56:57.71831Z",
          "iopub.status.idle": "2024-04-12T21:57:03.033081Z",
          "shell.execute_reply.started": "2024-04-12T21:56:57.718206Z",
          "shell.execute_reply": "2024-04-12T21:57:03.032384Z"
        },
        "trusted": true
      },
      "execution_count": 2,
      "outputs": []
    },
    {
      "cell_type": "markdown",
      "source": [
        "# Prepare data"
      ],
      "metadata": {
        "id": "aVb2hhOcgVwU"
      }
    },
    {
      "cell_type": "markdown",
      "source": [
        "Run the following three cells to define the required library functions for loading the data.\n",
        "\n",
        "The first cell defines the name of the variables in the input files and the corrresponding data statistics. The statistics can be used for preprocessing the data."
      ],
      "metadata": {
        "id": "OabUJMGqO9NE"
      }
    },
    {
      "cell_type": "code",
      "source": [
        "\"\"\"Constants for the data reader.\"\"\"\n",
        "\n",
        "INPUT_FEATURES = ['elevation', 'th', 'vs',  'tmmn', 'tmmx', 'sph',\n",
        "                  'pr', 'pdsi', 'NDVI', 'population', 'erc', 'PrevFireMask']\n",
        "\n",
        "OUTPUT_FEATURES = ['FireMask', ]\n",
        "\n",
        "# Data statistics\n",
        "# For each variable, the statistics are ordered in the form:\n",
        "# (min_clip, max_clip, mean, standard deviation)\n",
        "DATA_STATS = {\n",
        "    # Elevation in m.\n",
        "    # 0.1 percentile, 99.9 percentile\n",
        "    'elevation': (0.0, 3141.0, 657.3003, 649.0147),\n",
        "    # Pressure\n",
        "    # 0.1 percentile, 99.9 percentile\n",
        "    'pdsi': (-6.12974870967865, 7.876040384292651, -0.0052714925, 2.6823447),\n",
        "    'NDVI': (-9821.0, 9996.0, 5157.625, 2466.6677),  # min, max\n",
        "    # Precipitation in mm.\n",
        "    # Negative values do not make sense, so min is set to 0.\n",
        "    # 0., 99.9 percentile\n",
        "    'pr': (0.0, 44.53038024902344, 1.7398051, 4.482833),\n",
        "    # Specific humidity.\n",
        "    # Negative values do not make sense, so min is set to 0.\n",
        "    # The range of specific humidity is up to 100% so max is 1.\n",
        "    'sph': (0., 1., 0.0071658953, 0.0042835088),\n",
        "    # Wind direction in degrees clockwise from north.\n",
        "    # Thus min set to 0 and max set to 360.\n",
        "    'th': (0., 360.0, 190.32976, 72.59854),\n",
        "    # Min/max temperature in Kelvin.\n",
        "    # -20 degree C, 99.9 percentile\n",
        "    'tmmn': (253.15, 298.94891357421875, 281.08768, 8.982386),\n",
        "    # -20 degree C, 99.9 percentile\n",
        "    'tmmx': (253.15, 315.09228515625, 295.17383, 9.815496),\n",
        "    # Wind speed in m/s.\n",
        "    # Negative values do not make sense, given there is a wind direction.\n",
        "    # 0., 99.9 percentile\n",
        "    'vs': (0.0, 10.024310074806237, 3.8500874, 1.4109988),\n",
        "    # NFDRS fire danger index energy release component expressed in BTU's per\n",
        "    # square foot.\n",
        "    # Negative values do not make sense. Thus min set to zero.\n",
        "    # 0., 99.9 percentile\n",
        "    'erc': (0.0, 106.24891662597656, 37.326267, 20.846027),\n",
        "    # Population density\n",
        "    # min, 99.9 percentile\n",
        "    'population': (0., 2534.06298828125, 25.531384, 154.72331),\n",
        "    # We don't want to normalize the FireMasks.\n",
        "    # 1 indicates fire, 0 no fire, -1 unlabeled data\n",
        "    'PrevFireMask': (-1., 1., 0., 1.),\n",
        "    'FireMask': (-1., 1., 0., 1.)\n",
        "}"
      ],
      "metadata": {
        "id": "GTTV3tjjCcdn",
        "execution": {
          "iopub.status.busy": "2024-04-12T21:57:03.034553Z",
          "iopub.execute_input": "2024-04-12T21:57:03.034786Z",
          "iopub.status.idle": "2024-04-12T21:57:03.045906Z",
          "shell.execute_reply.started": "2024-04-12T21:57:03.034756Z",
          "shell.execute_reply": "2024-04-12T21:57:03.04497Z"
        },
        "trusted": true
      },
      "execution_count": 3,
      "outputs": []
    },
    {
      "cell_type": "markdown",
      "source": [
        "The following cell defines cropping functions for extracting regions of the desired size from the input data."
      ],
      "metadata": {
        "id": "4Kod5h6mWSxg"
      }
    },
    {
      "cell_type": "code",
      "source": [
        "\"\"\"Library of common functions used in deep learning neural networks.\n",
        "\"\"\"\n",
        "def random_crop_input_and_output_images(\n",
        "    input_img: tf.Tensor,\n",
        "    output_img: tf.Tensor,\n",
        "    sample_size: int,\n",
        "    num_in_channels: int,\n",
        "    num_out_channels: int,\n",
        ") -> Tuple[tf.Tensor, tf.Tensor]:\n",
        "    \"\"\"Randomly axis-align crop input and output image tensors.\n",
        "\n",
        "    Args:\n",
        "        input_img: tensor with dimensions HWC.\n",
        "        output_img: tensor with dimensions HWC.\n",
        "        sample_size: side length (square) to crop to.\n",
        "        num_in_channels: number of channels in input_img.\n",
        "        num_out_channels: number of channels in output_img.\n",
        "    Returns:\n",
        "        input_img: tensor with dimensions HWC.\n",
        "        output_img: tensor with dimensions HWC.\n",
        "    \"\"\"\n",
        "    combined = tf.concat([input_img, output_img], axis=2)\n",
        "    combined = tf.image.random_crop(\n",
        "        combined,\n",
        "        [sample_size, sample_size, num_in_channels + num_out_channels])\n",
        "    input_img = combined[:, :, 0:num_in_channels]\n",
        "    output_img = combined[:, :, -num_out_channels:]\n",
        "    return input_img, output_img\n",
        "\n",
        "\n",
        "def center_crop_input_and_output_images(\n",
        "    input_img: tf.Tensor,\n",
        "    output_img: tf.Tensor,\n",
        "    sample_size: int,\n",
        ") -> Tuple[tf.Tensor, tf.Tensor]:\n",
        "    \"\"\"Center crops input and output image tensors.\n",
        "\n",
        "    Args:\n",
        "        input_img: tensor with dimensions HWC.\n",
        "        output_img: tensor with dimensions HWC.\n",
        "        sample_size: side length (square) to crop to.\n",
        "    Returns:\n",
        "        input_img: tensor with dimensions HWC.\n",
        "        output_img: tensor with dimensions HWC.\n",
        "    \"\"\"\n",
        "    central_fraction = sample_size / input_img.shape[0]\n",
        "    input_img = tf.image.central_crop(input_img, central_fraction)\n",
        "    output_img = tf.image.central_crop(output_img, central_fraction)\n",
        "    return input_img, output_img"
      ],
      "metadata": {
        "id": "QqGYv21hD-2q",
        "execution": {
          "iopub.status.busy": "2024-04-12T21:57:03.047234Z",
          "iopub.execute_input": "2024-04-12T21:57:03.047459Z",
          "iopub.status.idle": "2024-04-12T21:57:03.067092Z",
          "shell.execute_reply.started": "2024-04-12T21:57:03.047431Z",
          "shell.execute_reply": "2024-04-12T21:57:03.066307Z"
        },
        "trusted": true
      },
      "execution_count": 4,
      "outputs": []
    },
    {
      "cell_type": "markdown",
      "source": [
        "The following cell provides code for parsing the contents of the TensorFlow Record files. In addition to loading the data, it also offers functions for various preprocessing operations, such as clipping, rescaling, or normalizing the data.  "
      ],
      "metadata": {
        "id": "FdqhbaYQWSxg"
      }
    },
    {
      "cell_type": "code",
      "source": [
        "\"\"\"Dataset reader for Earth Engine data.\"\"\"\n",
        "\n",
        "def _get_base_key(key: Text) -> Text:\n",
        "    \"\"\"Extracts the base key from the provided key.\n",
        "\n",
        "    Earth Engine exports TFRecords containing each data variable with its\n",
        "    corresponding variable name. In the case of time sequences, the name of the\n",
        "    data variable is of the form 'variable_1', 'variable_2', ..., 'variable_n',\n",
        "    where 'variable' is the name of the variable, and n the number of elements\n",
        "    in the time sequence. Extracting the base key ensures that each step of the\n",
        "    time sequence goes through the same normalization steps.\n",
        "    The base key obeys the following naming pattern: '([a-zA-Z]+)'\n",
        "    For instance, for an input key 'variable_1', this function returns 'variable'.\n",
        "    For an input key 'variable', this function simply returns 'variable'.\n",
        "\n",
        "    Args:\n",
        "        key: Input key.\n",
        "\n",
        "    Returns:\n",
        "        The corresponding base key.\n",
        "\n",
        "    Raises:\n",
        "        ValueError when `key` does not match the expected pattern.\n",
        "    \"\"\"\n",
        "    match = re.match(r'([a-zA-Z]+)', key)\n",
        "    if match:\n",
        "        return match.group(1)\n",
        "\n",
        "    raise ValueError(\n",
        "      'The provided key does not match the expected pattern: {}'.format(key))\n",
        "\n",
        "\n",
        "def _clip_and_rescale(inputs: tf.Tensor, key: Text) -> tf.Tensor:\n",
        "    \"\"\"Clips and rescales inputs with the stats corresponding to `key`.\n",
        "\n",
        "    Args:\n",
        "        inputs: Inputs to clip and rescale.\n",
        "        key: Key describing the inputs.\n",
        "\n",
        "    Returns:\n",
        "        Clipped and rescaled input.\n",
        "\n",
        "    Raises:\n",
        "        ValueError if there are no data statistics available for `key`.\n",
        "    \"\"\"\n",
        "    base_key = _get_base_key(key)\n",
        "    if base_key not in DATA_STATS:\n",
        "        raise ValueError(\n",
        "            'No data statistics available for the requested key: {}.'.format(key))\n",
        "    min_val, max_val, _, _ = DATA_STATS[base_key]\n",
        "    inputs = tf.clip_by_value(inputs, min_val, max_val)\n",
        "    return tf.math.divide_no_nan((inputs - min_val), (max_val - min_val))\n",
        "\n",
        "\n",
        "def _clip_and_normalize(inputs: tf.Tensor, key: Text) -> tf.Tensor:\n",
        "    \"\"\"Clips and normalizes inputs with the stats corresponding to `key`.\n",
        "\n",
        "    Args:\n",
        "        inputs: Inputs to clip and normalize.\n",
        "        key: Key describing the inputs.\n",
        "\n",
        "    Returns:\n",
        "        Clipped and normalized input.\n",
        "\n",
        "    Raises:\n",
        "        ValueError if there are no data statistics available for `key`.\n",
        "    \"\"\"\n",
        "    base_key = _get_base_key(key)\n",
        "    if base_key not in DATA_STATS:\n",
        "        raise ValueError(\n",
        "            'No data statistics available for the requested key: {}.'.format(key))\n",
        "    min_val, max_val, mean, std = DATA_STATS[base_key]\n",
        "    inputs = tf.clip_by_value(inputs, min_val, max_val)\n",
        "    inputs = inputs - mean\n",
        "    return tf.math.divide_no_nan(inputs, std)\n",
        "\n",
        "def _get_features_dict(\n",
        "    sample_size: int,\n",
        "    features: List[Text],\n",
        ") -> Dict[Text, tf.io.FixedLenFeature]:\n",
        "    \"\"\"Creates a features dictionary for TensorFlow IO.\n",
        "\n",
        "    Args:\n",
        "        sample_size: Size of the input tiles (square).\n",
        "        features: List of feature names.\n",
        "\n",
        "    Returns:\n",
        "        A features dictionary for TensorFlow IO.\n",
        "    \"\"\"\n",
        "    sample_shape = [sample_size, sample_size]\n",
        "    features = set(features)\n",
        "    columns = [\n",
        "        tf.io.FixedLenFeature(shape=sample_shape, dtype=tf.float32)\n",
        "        for _ in features\n",
        "    ]\n",
        "    return dict(zip(features, columns))\n",
        "\n",
        "\n",
        "def _parse_fn(\n",
        "    example_proto: tf.train.Example, data_size: int, sample_size: int,\n",
        "    num_in_channels: int, clip_and_normalize: bool,\n",
        "    clip_and_rescale: bool, random_crop: bool, center_crop: bool,\n",
        ") -> Tuple[tf.Tensor, tf.Tensor]:\n",
        "    \"\"\"Reads a serialized example.\n",
        "\n",
        "    Args:\n",
        "        example_proto: A TensorFlow example protobuf.\n",
        "        data_size: Size of tiles (square) as read from input files.\n",
        "        sample_size: Size the tiles (square) when input into the model.\n",
        "        num_in_channels: Number of input channels.\n",
        "        clip_and_normalize: True if the data should be clipped and normalized.\n",
        "        clip_and_rescale: True if the data should be clipped and rescaled.\n",
        "        random_crop: True if the data should be randomly cropped.\n",
        "        center_crop: True if the data should be cropped in the center.\n",
        "\n",
        "    Returns:\n",
        "        (input_img, output_img) tuple of inputs and outputs to the ML model.\n",
        "    \"\"\"\n",
        "    if (random_crop and center_crop):\n",
        "        raise ValueError('Cannot have both random_crop and center_crop be True')\n",
        "    input_features, output_features = INPUT_FEATURES, OUTPUT_FEATURES\n",
        "    feature_names = input_features + output_features\n",
        "    features_dict = _get_features_dict(data_size, feature_names)\n",
        "    features = tf.io.parse_single_example(example_proto, features_dict)\n",
        "\n",
        "    if clip_and_normalize:\n",
        "        inputs_list = [\n",
        "            _clip_and_normalize(features.get(key), key) for key in input_features\n",
        "        ]\n",
        "    elif clip_and_rescale:\n",
        "        inputs_list = [\n",
        "            _clip_and_rescale(features.get(key), key) for key in input_features\n",
        "        ]\n",
        "    else:\n",
        "        inputs_list = [features.get(key) for key in input_features]\n",
        "\n",
        "    inputs_stacked = tf.stack(inputs_list, axis=0)\n",
        "    input_img = tf.transpose(inputs_stacked, [1, 2, 0])\n",
        "\n",
        "    outputs_list = [features.get(key) for key in output_features]\n",
        "    assert outputs_list, 'outputs_list should not be empty'\n",
        "    outputs_stacked = tf.stack(outputs_list, axis=0)\n",
        "\n",
        "    outputs_stacked_shape = outputs_stacked.get_shape().as_list()\n",
        "    assert len(outputs_stacked.shape) == 3, ('outputs_stacked should be rank 3'\n",
        "                                            'but dimensions of outputs_stacked'\n",
        "                                            f' are {outputs_stacked_shape}')\n",
        "    output_img = tf.transpose(outputs_stacked, [1, 2, 0])\n",
        "\n",
        "    if random_crop:\n",
        "        input_img, output_img = random_crop_input_and_output_images(\n",
        "            input_img, output_img, sample_size, num_in_channels, 1)\n",
        "    if center_crop:\n",
        "        input_img, output_img = center_crop_input_and_output_images(\n",
        "            input_img, output_img, sample_size)\n",
        "    return input_img, output_img\n",
        "\n",
        "\n",
        "def get_dataset(file_pattern: Text, data_size: int, sample_size: int,\n",
        "                batch_size: int, num_in_channels: int, compression_type: Text,\n",
        "                clip_and_normalize: bool, clip_and_rescale: bool,\n",
        "                random_crop: bool, center_crop: bool) -> tf.data.Dataset:\n",
        "    \"\"\"Gets the dataset from the file pattern.\n",
        "\n",
        "    Args:\n",
        "        file_pattern: Input file pattern.\n",
        "        data_size: Size of tiles (square) as read from input files.\n",
        "        sample_size: Size the tiles (square) when input into the model.\n",
        "        batch_size: Batch size.\n",
        "        num_in_channels: Number of input channels.\n",
        "        compression_type: Type of compression used for the input files.\n",
        "        clip_and_normalize: True if the data should be clipped and normalized, False\n",
        "          otherwise.\n",
        "        clip_and_rescale: True if the data should be clipped and rescaled, False\n",
        "          otherwise.\n",
        "        random_crop: True if the data should be randomly cropped.\n",
        "        center_crop: True if the data shoulde be cropped in the center.\n",
        "\n",
        "    Returns:\n",
        "        A TensorFlow dataset loaded from the input file pattern, with features\n",
        "        described in the constants, and with the shapes determined from the input\n",
        "        parameters to this function.\n",
        "    \"\"\"\n",
        "    if (clip_and_normalize and clip_and_rescale):\n",
        "        raise ValueError('Cannot have both normalize and rescale.')\n",
        "    dataset = tf.data.Dataset.list_files(file_pattern)\n",
        "    dataset = dataset.interleave(\n",
        "        lambda x: tf.data.TFRecordDataset(x, compression_type=compression_type),\n",
        "        num_parallel_calls=tf.data.experimental.AUTOTUNE)\n",
        "    dataset = dataset.prefetch(buffer_size=tf.data.experimental.AUTOTUNE)\n",
        "    dataset = dataset.map(\n",
        "        lambda x: _parse_fn(  # pylint: disable=g-long-lambda\n",
        "            x, data_size, sample_size, num_in_channels, clip_and_normalize,\n",
        "            clip_and_rescale, random_crop, center_crop),\n",
        "        num_parallel_calls=tf.data.experimental.AUTOTUNE)\n",
        "    dataset = dataset.batch(batch_size)\n",
        "    dataset = dataset.prefetch(buffer_size=tf.data.experimental.AUTOTUNE)\n",
        "    return dataset"
      ],
      "metadata": {
        "id": "VBvI9FuGEC09",
        "execution": {
          "iopub.status.busy": "2024-04-12T21:57:03.069238Z",
          "iopub.execute_input": "2024-04-12T21:57:03.069548Z",
          "iopub.status.idle": "2024-04-12T21:57:03.100564Z",
          "shell.execute_reply.started": "2024-04-12T21:57:03.069484Z",
          "shell.execute_reply": "2024-04-12T21:57:03.099704Z"
        },
        "trusted": true
      },
      "execution_count": 5,
      "outputs": []
    },
    {
      "cell_type": "code",
      "source": [
        "from google.colab import drive\n",
        "drive.mount('/content/drive')"
      ],
      "metadata": {
        "colab": {
          "base_uri": "https://localhost:8080/"
        },
        "id": "ILhjUs0mYAO-",
        "outputId": "b3fc5fbb-4f2d-4895-f25f-a7ec9782e6ee"
      },
      "execution_count": 6,
      "outputs": [
        {
          "output_type": "stream",
          "name": "stdout",
          "text": [
            "Mounted at /content/drive\n"
          ]
        }
      ]
    },
    {
      "cell_type": "markdown",
      "source": [
        "Let's load training, validation and test sets using function we define above"
      ],
      "metadata": {
        "id": "fkb7UHSMWSxh"
      }
    },
    {
      "cell_type": "code",
      "source": [
        "%ls"
      ],
      "metadata": {
        "colab": {
          "base_uri": "https://localhost:8080/"
        },
        "id": "uE8rlAS7Yagl",
        "outputId": "6b3063d3-1091-4012-bffa-692144556a1d"
      },
      "execution_count": 7,
      "outputs": [
        {
          "output_type": "stream",
          "name": "stdout",
          "text": [
            "\u001b[0m\u001b[01;34mdrive\u001b[0m/        vitcross_seg_modeling_heatmap.py  vit_seg_configs.py\n",
            "\u001b[01;34msample_data\u001b[0m/  vitcross_seg_modeling.py          vit_seg_modeling_resnet_skip.py\n"
          ]
        }
      ]
    },
    {
      "cell_type": "code",
      "source": [
        "BATCH_SIZE = 32\n",
        "\n",
        "train_dataset = get_dataset('/content/drive/MyDrive/mat422_project/dataset/next_day_wildfire_spread_train*',\n",
        "    data_size=64, sample_size=32, batch_size=BATCH_SIZE,\n",
        "    num_in_channels=12, compression_type=None, clip_and_normalize=True,\n",
        "    clip_and_rescale=False, random_crop=True, center_crop=False)\n",
        "\n",
        "validation_dataset = get_dataset('/content/drive/MyDrive/mat422_project/dataset/next_day_wildfire_spread_eval*',\n",
        "    data_size=64, sample_size=32, batch_size=BATCH_SIZE,\n",
        "    num_in_channels=12, compression_type=None, clip_and_normalize=True,\n",
        "    clip_and_rescale=False, random_crop=True, center_crop=False)\n",
        "\n",
        "test_dataset = get_dataset('/content/drive/MyDrive/mat422_project/dataset/next_day_wildfire_spread_test*',\n",
        "    data_size=64, sample_size=32, batch_size=BATCH_SIZE,\n",
        "    num_in_channels=12, compression_type=None, clip_and_normalize=True,\n",
        "    clip_and_rescale=False, random_crop=True, center_crop=False)"
      ],
      "metadata": {
        "id": "X1jBBEinQbM0",
        "execution": {
          "iopub.status.busy": "2024-04-12T21:57:03.101497Z",
          "iopub.execute_input": "2024-04-12T21:57:03.101701Z",
          "iopub.status.idle": "2024-04-12T21:57:06.713825Z",
          "shell.execute_reply.started": "2024-04-12T21:57:03.101674Z",
          "shell.execute_reply": "2024-04-12T21:57:06.713027Z"
        },
        "trusted": true
      },
      "execution_count": 8,
      "outputs": []
    },
    {
      "cell_type": "markdown",
      "source": [
        "# Visualize data\n",
        "We will check content of the dataset by plotting them"
      ],
      "metadata": {
        "id": "bzCgCoxtgP-f"
      }
    },
    {
      "cell_type": "markdown",
      "source": [
        "Let's plot the data!\n",
        "\n",
        "First we define the names for each of our variables."
      ],
      "metadata": {
        "id": "32bKagbwWSxh"
      }
    },
    {
      "cell_type": "code",
      "source": [
        "TITLES = [\n",
        "  'Elevation',\n",
        "  'Wind\\ndirection',\n",
        "  'Wind\\nvelocity',\n",
        "  'Min\\ntemp',\n",
        "  'Max\\ntemp',\n",
        "  'Humidity',\n",
        "  'Precip',\n",
        "  'Drought',\n",
        "  'Vegetation',\n",
        "  'Population\\ndensity',\n",
        "  'Energy\\nrelease\\ncomponent',\n",
        "  'Previous\\nfire\\nmask',\n",
        "  'Fire\\nmask'\n",
        "]"
      ],
      "metadata": {
        "id": "bnG0_l_ChjUt",
        "execution": {
          "iopub.status.busy": "2024-04-12T21:57:06.715171Z",
          "iopub.execute_input": "2024-04-12T21:57:06.715439Z",
          "iopub.status.idle": "2024-04-12T21:57:06.720658Z",
          "shell.execute_reply.started": "2024-04-12T21:57:06.715401Z",
          "shell.execute_reply": "2024-04-12T21:57:06.719907Z"
        },
        "trusted": true
      },
      "execution_count": 9,
      "outputs": []
    },
    {
      "cell_type": "markdown",
      "source": [
        "Define some helper variables for the plot."
      ],
      "metadata": {
        "id": "KHfSQfC9WSxi"
      }
    },
    {
      "cell_type": "code",
      "source": [
        "def plot_samples_from_dataset(dataset: tf.data.Dataset, n_rows: int):\n",
        "    \"\"\"\n",
        "    Plot 'n_rows' rows of samples from dataset.\n",
        "\n",
        "    Args:\n",
        "        dataset (Dataset): Dataset from which to plot samples.\n",
        "        n_rows (int): Number of rows to plot.\n",
        "    \"\"\"\n",
        "    global TITLES\n",
        "\n",
        "    # Get batch\n",
        "    inputs, labels = None, None\n",
        "    for elem in dataset:\n",
        "        inputs, labels = elem\n",
        "        break\n",
        "\n",
        "    fig = plt.figure(figsize=(15,6.5))\n",
        "\n",
        "    # Variables for controllong the color map for the fire masks\n",
        "    CMAP = colors.ListedColormap(['black', 'silver', 'orangered'])\n",
        "    BOUNDS = [-1, -0.1, 0.001, 1]\n",
        "    NORM = colors.BoundaryNorm(BOUNDS, CMAP.N)\n",
        "    # Number of data variables\n",
        "    n_features = 12\n",
        "    for i in range(n_rows):\n",
        "        for j in range(n_features + 1):\n",
        "            plt.subplot(n_rows, n_features + 1, i * (n_features + 1) + j + 1)\n",
        "            if i == 0:\n",
        "                plt.title(TITLES[j], fontsize=13)\n",
        "            if j < n_features - 1:\n",
        "                plt.imshow(inputs[i, :, :, j], cmap='viridis')\n",
        "            if j == n_features - 1:\n",
        "                plt.imshow(inputs[i, :, :, -1], cmap=CMAP, norm=NORM)\n",
        "            if j == n_features:\n",
        "                plt.imshow(labels[i, :, :, 0], cmap=CMAP, norm=NORM)\n",
        "            plt.axis('off')\n",
        "    plt.tight_layout()\n"
      ],
      "metadata": {
        "id": "sPtKQzQv71J_",
        "execution": {
          "iopub.status.busy": "2024-04-12T21:57:06.72176Z",
          "iopub.execute_input": "2024-04-12T21:57:06.722017Z",
          "iopub.status.idle": "2024-04-12T21:57:06.879668Z",
          "shell.execute_reply.started": "2024-04-12T21:57:06.721961Z",
          "shell.execute_reply": "2024-04-12T21:57:06.878694Z"
        },
        "trusted": true
      },
      "execution_count": 10,
      "outputs": []
    },
    {
      "cell_type": "code",
      "source": [
        "plot_samples_from_dataset(train_dataset, 5)"
      ],
      "metadata": {
        "execution": {
          "iopub.status.busy": "2024-04-12T21:57:06.880711Z",
          "iopub.execute_input": "2024-04-12T21:57:06.880936Z",
          "iopub.status.idle": "2024-04-12T21:57:10.375116Z",
          "shell.execute_reply.started": "2024-04-12T21:57:06.880907Z",
          "shell.execute_reply": "2024-04-12T21:57:10.374356Z"
        },
        "trusted": true,
        "id": "UPm_hkCcWSxi",
        "colab": {
          "base_uri": "https://localhost:8080/",
          "height": 346
        },
        "outputId": "4d340d98-9b99-4f9c-a9bf-273ba2823f64"
      },
      "execution_count": 11,
      "outputs": [
        {
          "output_type": "display_data",
          "data": {
            "text/plain": [
              "<Figure size 1500x650 with 65 Axes>"
            ],
            "image/png": "[encoded data removed]"
          },
          "metadata": {}
        }
      ]
    },
    {
      "cell_type": "markdown",
      "source": [
        "# Building testing"
      ],
      "metadata": {
        "id": "x2djMrt4WSxi"
      }
    },
    {
      "cell_type": "markdown",
      "source": [
        "## Metrics\n",
        "Let's define metric calculation functions"
      ],
      "metadata": {
        "id": "6gMfqtggWSxi"
      }
    },
    {
      "cell_type": "code",
      "source": [
        "def IoU_metric(real_mask: tf.Tensor, predicted_mask: tf.Tensor) -> float:\n",
        "    \"\"\"\n",
        "    Calculation of intersection over union metric.\n",
        "\n",
        "    Args:\n",
        "        real_mask (Tensor): Ground-truth mask\n",
        "        predicted_mask (Tensor): Mask predicted by model\n",
        "    Returns:\n",
        "        (float): IoU metric value\n",
        "    \"\"\"\n",
        "    real_mask = tf.where(real_mask < 0, 0, real_mask)\n",
        "\n",
        "    intersection = np.logical_and(real_mask, predicted_mask)\n",
        "    union = np.logical_or(real_mask, predicted_mask)\n",
        "\n",
        "    if np.sum(union) == 0:\n",
        "        return 1\n",
        "    return np.sum(intersection) / np.sum(union)\n",
        "\n",
        "def recall_metric(real_mask: tf.Tensor, predicted_mask: tf.Tensor) -> float:\n",
        "    \"\"\"\n",
        "    Calculation of recall metric.\n",
        "\n",
        "    Args:\n",
        "        real_mask (Tensor): Ground-truth mask\n",
        "        predicted_mask (Tensor): Mask predicted by model\n",
        "    Returns:\n",
        "        (float): recall metric value\n",
        "    \"\"\"\n",
        "    real_mask = tf.where(real_mask < 0, 0, real_mask)\n",
        "\n",
        "    true_positives = np.sum(np.logical_and(real_mask, predicted_mask))\n",
        "    actual_positives = np.sum(real_mask)\n",
        "    if actual_positives == 0:\n",
        "        return 1\n",
        "\n",
        "    return true_positives / actual_positives\n",
        "\n",
        "def precision_metric(real_mask: tf.Tensor, predicted_mask: tf.Tensor) -> float:\n",
        "    \"\"\"\n",
        "    Calculation of precision metric.\n",
        "\n",
        "    Args:\n",
        "        real_mask (Tensor): Ground-truth mask\n",
        "        predicted_mask (Tensor): Mask predicted by model\n",
        "    Returns:\n",
        "        (float): precision metric value\n",
        "    \"\"\"\n",
        "    real_mask = tf.where(real_mask < 0, 0, real_mask)\n",
        "\n",
        "    true_positives = np.sum(np.logical_and(real_mask, predicted_mask))\n",
        "    predicted_positives = np.sum(predicted_mask)\n",
        "    if predicted_positives == 0:\n",
        "        return 1\n",
        "\n",
        "    return true_positives / predicted_positives"
      ],
      "metadata": {
        "execution": {
          "iopub.status.busy": "2024-04-12T22:05:34.448459Z",
          "iopub.execute_input": "2024-04-12T22:05:34.44927Z",
          "iopub.status.idle": "2024-04-12T22:05:34.459208Z",
          "shell.execute_reply.started": "2024-04-12T22:05:34.449232Z",
          "shell.execute_reply": "2024-04-12T22:05:34.458353Z"
        },
        "trusted": true,
        "id": "Q2OwodhJWSxi"
      },
      "execution_count": 12,
      "outputs": []
    },
    {
      "cell_type": "markdown",
      "source": [
        "## Loss functions"
      ],
      "metadata": {
        "id": "GZ65u-WvWSxi"
      }
    },
    {
      "cell_type": "code",
      "source": [
        "def dice_coef(y_true: tf.Tensor, y_pred: tf.Tensor) -> tf.Tensor:\n",
        "    \"\"\"\n",
        "    Dice loss function calculator.\n",
        "\n",
        "    Args:\n",
        "        y_true (Tensor):\n",
        "        y_pred (Tensor):\n",
        "    Returns:\n",
        "        (Tensor): Dice loss for each element of a batch.\n",
        "    \"\"\"\n",
        "    smooth = 1e-6\n",
        "    y_true_f = K.reshape(y_true, (BATCH_SIZE, -1))\n",
        "    y_pred_f = K.reshape(y_pred, (BATCH_SIZE, -1))\n",
        "    intersection = K.sum(y_true_f * y_pred_f, axis=1)\n",
        "    return 1 - (2. * intersection + smooth) / (K.sum(y_true_f, axis=1) + K.sum(y_pred_f, axis=1) + smooth)\n",
        "\n",
        "def weighted_bincrossentropy(true: tf.Tensor, pred: tf.Tensor, weight_zero: float = 0.01, weight_one: float = 1) -> float:\n",
        "    \"\"\"\n",
        "    Calculates weighted binary cross entropy. The weights are fixed.\n",
        "\n",
        "    This can be useful for unbalanced catagories.\n",
        "\n",
        "    Adjust the weights here depending on what is required.\n",
        "\n",
        "    For example if there are 10x as many positive classes as negative classes,\n",
        "        if you adjust weight_zero = 1.0, weight_one = 0.1, then false positives\n",
        "        will be penalize 10 times as much as false negatives.\n",
        "\n",
        "    Args:\n",
        "        true (Tensor): Ground-truth values\n",
        "        pred (Tensor): Predited values\n",
        "        weight_zero (float): Weight of class 0 (no-fire)\n",
        "        weight_one (float): Weight of class 1 (fire)\n",
        "\n",
        "    \"\"\"\n",
        "\n",
        "    # calculate the binary cross entropy\n",
        "    bin_crossentropy = K.binary_crossentropy(true, pred)\n",
        "\n",
        "    # apply the weights\n",
        "    weights = true * weight_one + (1. - true) * weight_zero\n",
        "    weighted_bin_crossentropy = weights * bin_crossentropy\n",
        "\n",
        "    return K.mean(weighted_bin_crossentropy, axis=1)\n",
        "\n",
        "def bce_dice_loss(y_true: tf.Tensor, y_pred: tf.Tensor):\n",
        "    \"\"\"\n",
        "    BCE loss function calculator.\n",
        "\n",
        "    Args:\n",
        "        y_true (Tensor):\n",
        "        y_pred (Tensor):\n",
        "    Returns:\n",
        "        (Tensor): Mean BCE Dice loss over a batch.\n",
        "    \"\"\"\n",
        "\n",
        "    y_true_f = K.reshape(y_true, (BATCH_SIZE, -1))\n",
        "    y_pred_f = K.reshape(y_pred, (BATCH_SIZE, -1))\n",
        "    return reduce_weighted_loss(weighted_bincrossentropy(y_true_f, y_pred_f) + dice_coef(y_true, y_pred))"
      ],
      "metadata": {
        "execution": {
          "iopub.status.busy": "2024-04-12T22:05:35.389242Z",
          "iopub.execute_input": "2024-04-12T22:05:35.389528Z",
          "iopub.status.idle": "2024-04-12T22:05:35.400523Z",
          "shell.execute_reply.started": "2024-04-12T22:05:35.389494Z",
          "shell.execute_reply": "2024-04-12T22:05:35.399781Z"
        },
        "trusted": true,
        "id": "jtdaLeFVWSxi"
      },
      "execution_count": 13,
      "outputs": []
    },
    {
      "cell_type": "markdown",
      "source": [
        "## Evaluation loop\n",
        "Let's define evaluation process over specified dataset"
      ],
      "metadata": {
        "id": "ATxKya1kWSxi"
      }
    },
    {
      "cell_type": "code",
      "source": [
        "def evaluate_model(prediction_function: Callable[[tf.Tensor], tf.Tensor],\n",
        "                   eval_dataset: tf.data.Dataset) -> Tuple[float, float, float, float]:\n",
        "    \"\"\"\n",
        "    Loads dataset according to file pattern and evaluates model's predictions on it.\n",
        "\n",
        "    Parameters:\n",
        "        model (Callable[[tf.Tensor], tf.Tensor]): Function for model inference.\n",
        "        eval_dataset (tf.dataDataset): Dataset for evaluation.\n",
        "\n",
        "    Returns:\n",
        "        Tuple[float, float, float, float]: IoU score, recall score, precision score and mean loss.\n",
        "    \"\"\"\n",
        "    IoU_measures = []\n",
        "    recall_measures = []\n",
        "    precision_measures = []\n",
        "    losses = []\n",
        "\n",
        "    for inputs, labels in tqdm(eval_dataset):\n",
        "        # Prediction shape (N, W, H)\n",
        "        predictions = prediction_function(inputs)\n",
        "        for i in range(inputs.shape[0]):\n",
        "            IoU_measures.append(IoU_metric(labels[i, :, :,  0], predictions[i, :, :]))\n",
        "            recall_measures.append(recall_metric(labels[i, :, :,  0], predictions[i, :, :]))\n",
        "            precision_measures.append(precision_metric(labels[i, :, :,  0], predictions[i, :, :]))\n",
        "        labels_cleared = tf.where(labels < 0, 0, labels)\n",
        "        losses.append(bce_dice_loss(labels_cleared, tf.expand_dims(tf.cast(predictions, tf.float32), axis=-1)))\n",
        "\n",
        "    mean_IoU = np.mean(IoU_measures)\n",
        "    mean_recall = np.mean(recall_measures)\n",
        "    mean_precision = np.mean(precision_measures)\n",
        "    mean_loss = np.mean(losses)\n",
        "    return mean_IoU, mean_recall, mean_precision, mean_loss"
      ],
      "metadata": {
        "execution": {
          "iopub.status.busy": "2024-04-12T22:05:37.593226Z",
          "iopub.execute_input": "2024-04-12T22:05:37.593509Z",
          "iopub.status.idle": "2024-04-12T22:05:37.604169Z",
          "shell.execute_reply.started": "2024-04-12T22:05:37.593475Z",
          "shell.execute_reply": "2024-04-12T22:05:37.603377Z"
        },
        "trusted": true,
        "id": "kiJdgBnRWSxi"
      },
      "execution_count": 14,
      "outputs": []
    },
    {
      "cell_type": "markdown",
      "source": [
        "# Modeling technique\n",
        "Description of technique"
      ],
      "metadata": {
        "id": "xvQfpPfKWSxj"
      }
    },
    {
      "cell_type": "markdown",
      "source": [
        "## Model"
      ],
      "metadata": {
        "id": "-BX9nqM6WSxj"
      }
    },
    {
      "cell_type": "code",
      "source": [
        "!pip install ml_collections"
      ],
      "metadata": {
        "execution": {
          "iopub.status.busy": "2024-04-12T22:05:39.023167Z",
          "iopub.execute_input": "2024-04-12T22:05:39.023949Z",
          "iopub.status.idle": "2024-04-12T22:05:54.768041Z",
          "shell.execute_reply.started": "2024-04-12T22:05:39.023908Z",
          "shell.execute_reply": "2024-04-12T22:05:54.767245Z"
        },
        "trusted": true,
        "id": "M0DLPolwWSxj",
        "colab": {
          "base_uri": "https://localhost:8080/"
        },
        "outputId": "2fb773c8-0a8d-4497-f8c7-ed3a2c641e76"
      },
      "execution_count": 15,
      "outputs": [
        {
          "output_type": "stream",
          "name": "stdout",
          "text": [
            "Collecting ml_collections\n",
            "  Downloading ml_collections-1.0.0-py3-none-any.whl.metadata (22 kB)\n",
            "Requirement already satisfied: absl-py in /usr/local/lib/python3.10/dist-packages (from ml_collections) (1.4.0)\n",
            "Requirement already satisfied: six in /usr/local/lib/python3.10/dist-packages (from ml_collections) (1.16.0)\n",
            "Requirement already satisfied: PyYAML in /usr/local/lib/python3.10/dist-packages (from ml_collections) (6.0.2)\n",
            "Downloading ml_collections-1.0.0-py3-none-any.whl (76 kB)\n",
            "\u001b[2K   \u001b[90m━━━━━━━━━━━━━━━━━━━━━━━━━━━━━━━━━━━━━━━━\u001b[0m \u001b[32m76.5/76.5 kB\u001b[0m \u001b[31m3.9 MB/s\u001b[0m eta \u001b[36m0:00:00\u001b[0m\n",
            "\u001b[?25hInstalling collected packages: ml_collections\n",
            "Successfully installed ml_collections-1.0.0\n"
          ]
        }
      ]
    },
    {
      "cell_type": "code",
      "source": [
        "from vitcross_seg_modeling import VisionTransformer as ViT_seg\n",
        "from vitcross_seg_modeling import CONFIGS as CONFIGS_ViT_seg"
      ],
      "metadata": {
        "id": "R2-hB-o3ZSTx"
      },
      "execution_count": 18,
      "outputs": []
    },
    {
      "cell_type": "code",
      "source": [
        "!pip install timm"
      ],
      "metadata": {
        "colab": {
          "base_uri": "https://localhost:8080/"
        },
        "id": "6SpfrHj_noqY",
        "outputId": "280c072d-2889-4a35-a29e-c2a2106f5da2"
      },
      "execution_count": 39,
      "outputs": [
        {
          "output_type": "stream",
          "name": "stdout",
          "text": [
            "Requirement already satisfied: timm in /usr/local/lib/python3.10/dist-packages (1.0.11)\n",
            "Requirement already satisfied: torch in /usr/local/lib/python3.10/dist-packages (from timm) (2.5.0+cu121)\n",
            "Requirement already satisfied: torchvision in /usr/local/lib/python3.10/dist-packages (from timm) (0.20.0+cu121)\n",
            "Requirement already satisfied: pyyaml in /usr/local/lib/python3.10/dist-packages (from timm) (6.0.2)\n",
            "Requirement already satisfied: huggingface_hub in /usr/local/lib/python3.10/dist-packages (from timm) (0.26.2)\n",
            "Requirement already satisfied: safetensors in /usr/local/lib/python3.10/dist-packages (from timm) (0.4.5)\n",
            "Requirement already satisfied: filelock in /usr/local/lib/python3.10/dist-packages (from huggingface_hub->timm) (3.16.1)\n",
            "Requirement already satisfied: fsspec>=2023.5.0 in /usr/local/lib/python3.10/dist-packages (from huggingface_hub->timm) (2024.10.0)\n",
            "Requirement already satisfied: packaging>=20.9 in /usr/local/lib/python3.10/dist-packages (from huggingface_hub->timm) (24.2)\n",
            "Requirement already satisfied: requests in /usr/local/lib/python3.10/dist-packages (from huggingface_hub->timm) (2.32.3)\n",
            "Requirement already satisfied: tqdm>=4.42.1 in /usr/local/lib/python3.10/dist-packages (from huggingface_hub->timm) (4.66.6)\n",
            "Requirement already satisfied: typing-extensions>=3.7.4.3 in /usr/local/lib/python3.10/dist-packages (from huggingface_hub->timm) (4.12.2)\n",
            "Requirement already satisfied: networkx in /usr/local/lib/python3.10/dist-packages (from torch->timm) (3.4.2)\n",
            "Requirement already satisfied: jinja2 in /usr/local/lib/python3.10/dist-packages (from torch->timm) (3.1.4)\n",
            "Requirement already satisfied: sympy==1.13.1 in /usr/local/lib/python3.10/dist-packages (from torch->timm) (1.13.1)\n",
            "Requirement already satisfied: mpmath<1.4,>=1.1.0 in /usr/local/lib/python3.10/dist-packages (from sympy==1.13.1->torch->timm) (1.3.0)\n",
            "Requirement already satisfied: numpy in /usr/local/lib/python3.10/dist-packages (from torchvision->timm) (1.26.4)\n",
            "Requirement already satisfied: pillow!=8.3.*,>=5.3.0 in /usr/local/lib/python3.10/dist-packages (from torchvision->timm) (11.0.0)\n",
            "Requirement already satisfied: MarkupSafe>=2.0 in /usr/local/lib/python3.10/dist-packages (from jinja2->torch->timm) (3.0.2)\n",
            "Requirement already satisfied: charset-normalizer<4,>=2 in /usr/local/lib/python3.10/dist-packages (from requests->huggingface_hub->timm) (3.4.0)\n",
            "Requirement already satisfied: idna<4,>=2.5 in /usr/local/lib/python3.10/dist-packages (from requests->huggingface_hub->timm) (3.10)\n",
            "Requirement already satisfied: urllib3<3,>=1.21.1 in /usr/local/lib/python3.10/dist-packages (from requests->huggingface_hub->timm) (2.2.3)\n",
            "Requirement already satisfied: certifi>=2017.4.17 in /usr/local/lib/python3.10/dist-packages (from requests->huggingface_hub->timm) (2024.8.30)\n"
          ]
        }
      ]
    },
    {
      "cell_type": "code",
      "source": [
        "!wget https://storage.googleapis.com/vit_models/imagenet21k/R50+ViT-B_16.npz"
      ],
      "metadata": {
        "colab": {
          "base_uri": "https://localhost:8080/"
        },
        "id": "ptgQlZdqbGrp",
        "outputId": "45d845ba-4d86-4108-ea9d-356c06d2fe57"
      },
      "execution_count": 19,
      "outputs": [
        {
          "output_type": "stream",
          "name": "stdout",
          "text": [
            "--2024-11-13 04:48:05--  https://storage.googleapis.com/vit_models/imagenet21k/R50+ViT-B_16.npz\n",
            "Resolving storage.googleapis.com (storage.googleapis.com)... 142.250.101.207, 142.251.2.207, 142.250.141.207, ...\n",
            "Connecting to storage.googleapis.com (storage.googleapis.com)|142.250.101.207|:443... connected.\n",
            "HTTP request sent, awaiting response... 200 OK\n",
            "Length: 461217452 (440M) [application/octet-stream]\n",
            "Saving to: ‘R50+ViT-B_16.npz’\n",
            "\n",
            "R50+ViT-B_16.npz    100%[===================>] 439.85M  25.6MB/s    in 18s     \n",
            "\n",
            "2024-11-13 04:48:24 (24.5 MB/s) - ‘R50+ViT-B_16.npz’ saved [461217452/461217452]\n",
            "\n"
          ]
        }
      ]
    },
    {
      "cell_type": "code",
      "source": [
        "import torch\n",
        "from tqdm import tqdm\n",
        "import torch.nn as nn\n",
        "import torch.nn.functional as F\n",
        "from torch.utils.data import DataLoader\n",
        "from sklearn.decomposition import PCA"
      ],
      "metadata": {
        "id": "SB_ranlafeSn"
      },
      "execution_count": 20,
      "outputs": []
    },
    {
      "cell_type": "code",
      "source": [
        "from einops import rearrange"
      ],
      "metadata": {
        "id": "riMBVu03wbqf"
      },
      "execution_count": 21,
      "outputs": []
    },
    {
      "cell_type": "code",
      "source": [
        "!pip install scikit-learn"
      ],
      "metadata": {
        "colab": {
          "base_uri": "https://localhost:8080/"
        },
        "id": "dnkdo-iHt__s",
        "outputId": "d2dac104-d841-4a9b-b6cc-a4b06f534ecc"
      },
      "execution_count": 51,
      "outputs": [
        {
          "output_type": "stream",
          "name": "stdout",
          "text": [
            "Requirement already satisfied: scikit-learn in /usr/local/lib/python3.10/dist-packages (1.5.2)\n",
            "Requirement already satisfied: numpy>=1.19.5 in /usr/local/lib/python3.10/dist-packages (from scikit-learn) (1.26.4)\n",
            "Requirement already satisfied: scipy>=1.6.0 in /usr/local/lib/python3.10/dist-packages (from scikit-learn) (1.13.1)\n",
            "Requirement already satisfied: joblib>=1.2.0 in /usr/local/lib/python3.10/dist-packages (from scikit-learn) (1.4.2)\n",
            "Requirement already satisfied: threadpoolctl>=3.1.0 in /usr/local/lib/python3.10/dist-packages (from scikit-learn) (3.5.0)\n"
          ]
        }
      ]
    },
    {
      "cell_type": "markdown",
      "source": [
        "## Training loop"
      ],
      "metadata": {
        "id": "zgGjKqgAWSxj"
      }
    },
    {
      "cell_type": "code",
      "source": [
        "def train_model(model: Model, train_dataset: tf.data.Dataset, epochs:int=50) -> Tuple[List[float], List[float]]:\n",
        "    \"\"\"\n",
        "    Trains a model using train dataset. (Save weights of model with best IoU)\n",
        "\n",
        "    Args:\n",
        "        model (Model): Model to train.\n",
        "        train_dataset (Dataset): Training dataset.\n",
        "        epochs (int): Number of epochs\n",
        "    Returns:\n",
        "        Tuple[List[float], List[float]]: Train losses and Validation losses\n",
        "    \"\"\"\n",
        "    loss_fn = bce_dice_loss\n",
        "    optimizer = tf.keras.optimizers.Adam()\n",
        "    batch_losses = []\n",
        "    val_losses = []\n",
        "    best_IoU = 0.0\n",
        "\n",
        "    for epoch in range(epochs):\n",
        "        losses = []\n",
        "        print(f'Epoch {epoch+1}/{epochs}')\n",
        "        # Iterate through the dataset\n",
        "        progress = tqdm(train_dataset)\n",
        "        for images, masks in progress:\n",
        "            images = torch.from_numpy(images.numpy())#.cuda() # .cuda() if using GPU\n",
        "            masks = torch.from_numpy(masks.numpy())#.cuda() # .cuda() if using GPU\n",
        "\n",
        "\n",
        "            '''\n",
        "            # Ensure images have 3 channels\n",
        "            if images.shape[1] != 3:\n",
        "                # If images have more than 3 channels, select the first 3 channels\n",
        "                if images.shape[1] > 3:\n",
        "                    images = images[:, :3, :, :]\n",
        "                # If images have only 1 channel, repeat it 3 times to create a 3-channel image\n",
        "                elif images.shape[1] == 1:\n",
        "                    images = images.repeat(1, 3, 1, 1)\n",
        "                # If images have less than 3 channel, but not 1 then raise an error\n",
        "                else:\n",
        "                    raise ValueError(f\"Images have an unexpected number of channels: {images.shape[1]}. Expected 3 or 1.\")\n",
        "\n",
        "                print(\"shape after channel adjustment: \", images.shape)  # Print shape after adjustment for debugging\n",
        "\n",
        "\n",
        "            #print(\"shape: \", images.shape[1])\n",
        "            if images.shape[1] != 3:\n",
        "                print(\"shape before mean: \", images.shape)  # Print shape before mean for debugging\n",
        "                images = torch.mean(images, dim=1, keepdim=True)  # Reduce channels using mean\n",
        "                print(\"shape after mean: \", images.shape)  # Print shape after mean for debugging\n",
        "\n",
        "                # **Replicate the channel if necessary to get 3 channels**\n",
        "                if images.shape[1] == 1:\n",
        "                    images = images.repeat(1, 3, 1, 1)  # Replicate to 3 channels\n",
        "                    print(\"shape after repeat: \", images.shape)  # Print shape after repeat for debugging\n",
        "\n",
        "            #print(\"shape before squeeze: \", images.shape)\n",
        "            #images = images.squeeze(4)\n",
        "            #print(\"shape after squeeze: \", images.shape)\n",
        "\n",
        "\n",
        "\n",
        "            if images.dim() == 5:\n",
        "                images = images.squeeze(4)  # Remove the extra dimension at index 4\n",
        "                print(\"shape after squeeze: \", images.shape)\n",
        "            '''\n",
        "\n",
        "            with tf.GradientTape() as tape:\n",
        "                # Forward pass\n",
        "                #images = images.squeeze(3)\n",
        "                '''\n",
        "                masks = masks.squeeze(3) #remove extra dimension\n",
        "\n",
        "                print(\"images: \", images.shape)\n",
        "                print(\"masks: \", masks.shape)\n",
        "                '''\n",
        "                predictions = model(images, masks)\n",
        "                label = tf.where(masks < 0, 0, masks)\n",
        "                # Compute the loss\n",
        "                loss = loss_fn(label, predictions)\n",
        "                losses.append(loss.numpy())\n",
        "                progress.set_postfix({'batch_loss': loss.numpy()})\n",
        "            # Compute gradients\n",
        "            gradients = tape.gradient(loss, model.trainable_variables)\n",
        "            # Update the model's weights\n",
        "            optimizer.apply_gradients(zip(gradients, model.trainable_variables))\n",
        "        # Evaluate model\n",
        "        print(\"Evaluation...\")\n",
        "        IoU, recall, precision, val_loss = evaluate_model(lambda x: tf.where(model.predict(x) > 0.5, 1, 0)[:,:,:,0], validation_dataset)\n",
        "        print(\"Validation set metrics:\")\n",
        "        print(f\"Mean IoU: {IoU}\\nMean precision: {precision}\\nMean recall: {recall}\\nValidation loss: {val_loss}\\n\")\n",
        "        # Save best model\n",
        "        if IoU > best_IoU:\n",
        "            best_IoU = IoU\n",
        "            model.save_weights(\"best.h5\")\n",
        "\n",
        "        # Print the loss for monitoring\n",
        "        print(f'Epoch: {epoch}, Train loss: {np.mean(losses)}')\n",
        "        batch_losses.append(np.mean(losses))\n",
        "        val_losses.append(val_loss)\n",
        "\n",
        "    print(f\"Best model IoU: {best_IoU}\")\n",
        "    return batch_losses, val_losses\n",
        "\n",
        "# Set reproducability\n",
        "tf.random.set_seed(1337)\n",
        "\n",
        "\n",
        "config_vit = CONFIGS_ViT_seg['R50-ViT-B_16']\n",
        "config_vit.n_classes = 6\n",
        "config_vit.n_skip = 3\n",
        "config_vit.patches.grid = (int(256 / 16), int(256 / 16))\n",
        "net = ViT_seg(config_vit, img_size=256, num_classes=6)#.cuda()\n",
        "#net.load_from(weights=np.load('R50+ViT-B_16.npz'))#config_vit.pretrained_path))\n",
        "#segmentation_model = build_AE_model()\n",
        "train_losses, val_losses = train_model(net, train_dataset, epochs=50) #scheduler & optimizer?"
      ],
      "metadata": {
        "execution": {
          "iopub.status.busy": "2024-04-12T22:08:49.209799Z",
          "iopub.execute_input": "2024-04-12T22:08:49.210481Z",
          "iopub.status.idle": "2024-04-12T22:29:01.286178Z",
          "shell.execute_reply.started": "2024-04-12T22:08:49.210438Z",
          "shell.execute_reply": "2024-04-12T22:29:01.285315Z"
        },
        "trusted": true,
        "id": "OeX7CB5-WSxj",
        "colab": {
          "base_uri": "https://localhost:8080/",
          "height": 391
        },
        "outputId": "ead714e0-c3ac-4e02-a0b3-58f1f88964a0"
      },
      "execution_count": 45,
      "outputs": [
        {
          "output_type": "stream",
          "name": "stdout",
          "text": [
            "Epoch 1/50\n"
          ]
        },
        {
          "output_type": "stream",
          "name": "stderr",
          "text": [
            "0it [00:01, ?it/s]\n"
          ]
        },
        {
          "output_type": "error",
          "ename": "RuntimeError",
          "evalue": "Given groups=1, weight of size [64, 3, 7, 7], expected input[32, 32, 32, 12] to have 3 channels, but got 32 channels instead",
          "traceback": [
            "\u001b[0;31m---------------------------------------------------------------------------\u001b[0m",
            "\u001b[0;31mRuntimeError\u001b[0m                              Traceback (most recent call last)",
            "\u001b[0;32m<ipython-input-45-1e657dbfe4e4>\u001b[0m in \u001b[0;36m<cell line: 114>\u001b[0;34m()\u001b[0m\n\u001b[1;32m    112\u001b[0m \u001b[0;31m#net.load_from(weights=np.load('R50+ViT-B_16.npz'))#config_vit.pretrained_path))\u001b[0m\u001b[0;34m\u001b[0m\u001b[0;34m\u001b[0m\u001b[0m\n\u001b[1;32m    113\u001b[0m \u001b[0;31m#segmentation_model = build_AE_model()\u001b[0m\u001b[0;34m\u001b[0m\u001b[0;34m\u001b[0m\u001b[0m\n\u001b[0;32m--> 114\u001b[0;31m \u001b[0mtrain_losses\u001b[0m\u001b[0;34m,\u001b[0m \u001b[0mval_losses\u001b[0m \u001b[0;34m=\u001b[0m \u001b[0mtrain_model\u001b[0m\u001b[0;34m(\u001b[0m\u001b[0mnet\u001b[0m\u001b[0;34m,\u001b[0m \u001b[0mtrain_dataset\u001b[0m\u001b[0;34m,\u001b[0m \u001b[0mepochs\u001b[0m\u001b[0;34m=\u001b[0m\u001b[0;36m50\u001b[0m\u001b[0;34m)\u001b[0m \u001b[0;31m#scheduler & optimizer?\u001b[0m\u001b[0;34m\u001b[0m\u001b[0;34m\u001b[0m\u001b[0m\n\u001b[0m",
            "\u001b[0;32m<ipython-input-45-1e657dbfe4e4>\u001b[0m in \u001b[0;36mtrain_model\u001b[0;34m(model, train_dataset, epochs)\u001b[0m\n\u001b[1;32m     73\u001b[0m                 \u001b[0mprint\u001b[0m\u001b[0;34m(\u001b[0m\u001b[0;34m\"masks: \"\u001b[0m\u001b[0;34m,\u001b[0m \u001b[0mmasks\u001b[0m\u001b[0;34m.\u001b[0m\u001b[0mshape\u001b[0m\u001b[0;34m)\u001b[0m\u001b[0;34m\u001b[0m\u001b[0;34m\u001b[0m\u001b[0m\n\u001b[1;32m     74\u001b[0m                 '''\n\u001b[0;32m---> 75\u001b[0;31m                 \u001b[0mpredictions\u001b[0m \u001b[0;34m=\u001b[0m \u001b[0mmodel\u001b[0m\u001b[0;34m(\u001b[0m\u001b[0mimages\u001b[0m\u001b[0;34m,\u001b[0m \u001b[0mmasks\u001b[0m\u001b[0;34m)\u001b[0m\u001b[0;34m\u001b[0m\u001b[0;34m\u001b[0m\u001b[0m\n\u001b[0m\u001b[1;32m     76\u001b[0m                 \u001b[0mlabel\u001b[0m \u001b[0;34m=\u001b[0m \u001b[0mtf\u001b[0m\u001b[0;34m.\u001b[0m\u001b[0mwhere\u001b[0m\u001b[0;34m(\u001b[0m\u001b[0mmasks\u001b[0m \u001b[0;34m<\u001b[0m \u001b[0;36m0\u001b[0m\u001b[0;34m,\u001b[0m \u001b[0;36m0\u001b[0m\u001b[0;34m,\u001b[0m \u001b[0mmasks\u001b[0m\u001b[0;34m)\u001b[0m\u001b[0;34m\u001b[0m\u001b[0;34m\u001b[0m\u001b[0m\n\u001b[1;32m     77\u001b[0m                 \u001b[0;31m# Compute the loss\u001b[0m\u001b[0;34m\u001b[0m\u001b[0;34m\u001b[0m\u001b[0m\n",
            "\u001b[0;32m/usr/local/lib/python3.10/dist-packages/torch/nn/modules/module.py\u001b[0m in \u001b[0;36m_wrapped_call_impl\u001b[0;34m(self, *args, **kwargs)\u001b[0m\n\u001b[1;32m   1734\u001b[0m             \u001b[0;32mreturn\u001b[0m \u001b[0mself\u001b[0m\u001b[0;34m.\u001b[0m\u001b[0m_compiled_call_impl\u001b[0m\u001b[0;34m(\u001b[0m\u001b[0;34m*\u001b[0m\u001b[0margs\u001b[0m\u001b[0;34m,\u001b[0m \u001b[0;34m**\u001b[0m\u001b[0mkwargs\u001b[0m\u001b[0;34m)\u001b[0m  \u001b[0;31m# type: ignore[misc]\u001b[0m\u001b[0;34m\u001b[0m\u001b[0;34m\u001b[0m\u001b[0m\n\u001b[1;32m   1735\u001b[0m         \u001b[0;32melse\u001b[0m\u001b[0;34m:\u001b[0m\u001b[0;34m\u001b[0m\u001b[0;34m\u001b[0m\u001b[0m\n\u001b[0;32m-> 1736\u001b[0;31m             \u001b[0;32mreturn\u001b[0m \u001b[0mself\u001b[0m\u001b[0;34m.\u001b[0m\u001b[0m_call_impl\u001b[0m\u001b[0;34m(\u001b[0m\u001b[0;34m*\u001b[0m\u001b[0margs\u001b[0m\u001b[0;34m,\u001b[0m \u001b[0;34m**\u001b[0m\u001b[0mkwargs\u001b[0m\u001b[0;34m)\u001b[0m\u001b[0;34m\u001b[0m\u001b[0;34m\u001b[0m\u001b[0m\n\u001b[0m\u001b[1;32m   1737\u001b[0m \u001b[0;34m\u001b[0m\u001b[0m\n\u001b[1;32m   1738\u001b[0m     \u001b[0;31m# torchrec tests the code consistency with the following code\u001b[0m\u001b[0;34m\u001b[0m\u001b[0;34m\u001b[0m\u001b[0m\n",
            "\u001b[0;32m/usr/local/lib/python3.10/dist-packages/torch/nn/modules/module.py\u001b[0m in \u001b[0;36m_call_impl\u001b[0;34m(self, *args, **kwargs)\u001b[0m\n\u001b[1;32m   1745\u001b[0m                 \u001b[0;32mor\u001b[0m \u001b[0m_global_backward_pre_hooks\u001b[0m \u001b[0;32mor\u001b[0m \u001b[0m_global_backward_hooks\u001b[0m\u001b[0;34m\u001b[0m\u001b[0;34m\u001b[0m\u001b[0m\n\u001b[1;32m   1746\u001b[0m                 or _global_forward_hooks or _global_forward_pre_hooks):\n\u001b[0;32m-> 1747\u001b[0;31m             \u001b[0;32mreturn\u001b[0m \u001b[0mforward_call\u001b[0m\u001b[0;34m(\u001b[0m\u001b[0;34m*\u001b[0m\u001b[0margs\u001b[0m\u001b[0;34m,\u001b[0m \u001b[0;34m**\u001b[0m\u001b[0mkwargs\u001b[0m\u001b[0;34m)\u001b[0m\u001b[0;34m\u001b[0m\u001b[0;34m\u001b[0m\u001b[0m\n\u001b[0m\u001b[1;32m   1748\u001b[0m \u001b[0;34m\u001b[0m\u001b[0m\n\u001b[1;32m   1749\u001b[0m         \u001b[0mresult\u001b[0m \u001b[0;34m=\u001b[0m \u001b[0;32mNone\u001b[0m\u001b[0;34m\u001b[0m\u001b[0;34m\u001b[0m\u001b[0m\n",
            "\u001b[0;32m/content/vitcross_seg_modeling.py\u001b[0m in \u001b[0;36mforward\u001b[0;34m(self, x, y)\u001b[0m\n\u001b[1;32m    536\u001b[0m \u001b[0;34m\u001b[0m\u001b[0m\n\u001b[1;32m    537\u001b[0m     \u001b[0;32mdef\u001b[0m \u001b[0mforward\u001b[0m\u001b[0;34m(\u001b[0m\u001b[0mself\u001b[0m\u001b[0;34m,\u001b[0m \u001b[0mx\u001b[0m\u001b[0;34m,\u001b[0m \u001b[0my\u001b[0m\u001b[0;34m)\u001b[0m\u001b[0;34m:\u001b[0m\u001b[0;34m\u001b[0m\u001b[0;34m\u001b[0m\u001b[0m\n\u001b[0;32m--> 538\u001b[0;31m         \u001b[0mx\u001b[0m\u001b[0;34m,\u001b[0m \u001b[0my\u001b[0m\u001b[0;34m,\u001b[0m \u001b[0mattn_weights\u001b[0m\u001b[0;34m,\u001b[0m \u001b[0mfeatures\u001b[0m \u001b[0;34m=\u001b[0m \u001b[0mself\u001b[0m\u001b[0;34m.\u001b[0m\u001b[0mtransformer\u001b[0m\u001b[0;34m(\u001b[0m\u001b[0mx\u001b[0m\u001b[0;34m,\u001b[0m \u001b[0my\u001b[0m\u001b[0;34m)\u001b[0m  \u001b[0;31m# (B, n_patch, hidden)\u001b[0m\u001b[0;34m\u001b[0m\u001b[0;34m\u001b[0m\u001b[0m\n\u001b[0m\u001b[1;32m    539\u001b[0m         \u001b[0mx\u001b[0m \u001b[0;34m=\u001b[0m \u001b[0mx\u001b[0m \u001b[0;34m+\u001b[0m \u001b[0my\u001b[0m\u001b[0;34m\u001b[0m\u001b[0;34m\u001b[0m\u001b[0m\n\u001b[1;32m    540\u001b[0m         \u001b[0mx\u001b[0m \u001b[0;34m=\u001b[0m \u001b[0mself\u001b[0m\u001b[0;34m.\u001b[0m\u001b[0mdecoder\u001b[0m\u001b[0;34m(\u001b[0m\u001b[0mx\u001b[0m\u001b[0;34m,\u001b[0m \u001b[0mfeatures\u001b[0m\u001b[0;34m)\u001b[0m\u001b[0;34m\u001b[0m\u001b[0;34m\u001b[0m\u001b[0m\n",
            "\u001b[0;32m/usr/local/lib/python3.10/dist-packages/torch/nn/modules/module.py\u001b[0m in \u001b[0;36m_wrapped_call_impl\u001b[0;34m(self, *args, **kwargs)\u001b[0m\n\u001b[1;32m   1734\u001b[0m             \u001b[0;32mreturn\u001b[0m \u001b[0mself\u001b[0m\u001b[0;34m.\u001b[0m\u001b[0m_compiled_call_impl\u001b[0m\u001b[0;34m(\u001b[0m\u001b[0;34m*\u001b[0m\u001b[0margs\u001b[0m\u001b[0;34m,\u001b[0m \u001b[0;34m**\u001b[0m\u001b[0mkwargs\u001b[0m\u001b[0;34m)\u001b[0m  \u001b[0;31m# type: ignore[misc]\u001b[0m\u001b[0;34m\u001b[0m\u001b[0;34m\u001b[0m\u001b[0m\n\u001b[1;32m   1735\u001b[0m         \u001b[0;32melse\u001b[0m\u001b[0;34m:\u001b[0m\u001b[0;34m\u001b[0m\u001b[0;34m\u001b[0m\u001b[0m\n\u001b[0;32m-> 1736\u001b[0;31m             \u001b[0;32mreturn\u001b[0m \u001b[0mself\u001b[0m\u001b[0;34m.\u001b[0m\u001b[0m_call_impl\u001b[0m\u001b[0;34m(\u001b[0m\u001b[0;34m*\u001b[0m\u001b[0margs\u001b[0m\u001b[0;34m,\u001b[0m \u001b[0;34m**\u001b[0m\u001b[0mkwargs\u001b[0m\u001b[0;34m)\u001b[0m\u001b[0;34m\u001b[0m\u001b[0;34m\u001b[0m\u001b[0m\n\u001b[0m\u001b[1;32m   1737\u001b[0m \u001b[0;34m\u001b[0m\u001b[0m\n\u001b[1;32m   1738\u001b[0m     \u001b[0;31m# torchrec tests the code consistency with the following code\u001b[0m\u001b[0;34m\u001b[0m\u001b[0;34m\u001b[0m\u001b[0m\n",
            "\u001b[0;32m/usr/local/lib/python3.10/dist-packages/torch/nn/modules/module.py\u001b[0m in \u001b[0;36m_call_impl\u001b[0;34m(self, *args, **kwargs)\u001b[0m\n\u001b[1;32m   1745\u001b[0m                 \u001b[0;32mor\u001b[0m \u001b[0m_global_backward_pre_hooks\u001b[0m \u001b[0;32mor\u001b[0m \u001b[0m_global_backward_hooks\u001b[0m\u001b[0;34m\u001b[0m\u001b[0;34m\u001b[0m\u001b[0m\n\u001b[1;32m   1746\u001b[0m                 or _global_forward_hooks or _global_forward_pre_hooks):\n\u001b[0;32m-> 1747\u001b[0;31m             \u001b[0;32mreturn\u001b[0m \u001b[0mforward_call\u001b[0m\u001b[0;34m(\u001b[0m\u001b[0;34m*\u001b[0m\u001b[0margs\u001b[0m\u001b[0;34m,\u001b[0m \u001b[0;34m**\u001b[0m\u001b[0mkwargs\u001b[0m\u001b[0;34m)\u001b[0m\u001b[0;34m\u001b[0m\u001b[0;34m\u001b[0m\u001b[0m\n\u001b[0m\u001b[1;32m   1748\u001b[0m \u001b[0;34m\u001b[0m\u001b[0m\n\u001b[1;32m   1749\u001b[0m         \u001b[0mresult\u001b[0m \u001b[0;34m=\u001b[0m \u001b[0;32mNone\u001b[0m\u001b[0;34m\u001b[0m\u001b[0;34m\u001b[0m\u001b[0m\n",
            "\u001b[0;32m/content/vitcross_seg_modeling.py\u001b[0m in \u001b[0;36mforward\u001b[0;34m(self, input_ids, dsm_ids)\u001b[0m\n\u001b[1;32m    404\u001b[0m \u001b[0;34m\u001b[0m\u001b[0m\n\u001b[1;32m    405\u001b[0m     \u001b[0;32mdef\u001b[0m \u001b[0mforward\u001b[0m\u001b[0;34m(\u001b[0m\u001b[0mself\u001b[0m\u001b[0;34m,\u001b[0m \u001b[0minput_ids\u001b[0m\u001b[0;34m,\u001b[0m \u001b[0mdsm_ids\u001b[0m\u001b[0;34m)\u001b[0m\u001b[0;34m:\u001b[0m\u001b[0;34m\u001b[0m\u001b[0;34m\u001b[0m\u001b[0m\n\u001b[0;32m--> 406\u001b[0;31m         \u001b[0membeddingsx\u001b[0m\u001b[0;34m,\u001b[0m \u001b[0membeddingsy\u001b[0m\u001b[0;34m,\u001b[0m \u001b[0mfeatures\u001b[0m \u001b[0;34m=\u001b[0m \u001b[0mself\u001b[0m\u001b[0;34m.\u001b[0m\u001b[0membeddings\u001b[0m\u001b[0;34m(\u001b[0m\u001b[0minput_ids\u001b[0m\u001b[0;34m,\u001b[0m \u001b[0mdsm_ids\u001b[0m\u001b[0;34m)\u001b[0m\u001b[0;34m\u001b[0m\u001b[0;34m\u001b[0m\u001b[0m\n\u001b[0m\u001b[1;32m    407\u001b[0m         \u001b[0mencodedx\u001b[0m\u001b[0;34m,\u001b[0m \u001b[0mencodedy\u001b[0m\u001b[0;34m,\u001b[0m \u001b[0mattn_weights\u001b[0m \u001b[0;34m=\u001b[0m \u001b[0mself\u001b[0m\u001b[0;34m.\u001b[0m\u001b[0mencoder\u001b[0m\u001b[0;34m(\u001b[0m\u001b[0membeddingsx\u001b[0m\u001b[0;34m,\u001b[0m \u001b[0membeddingsy\u001b[0m\u001b[0;34m)\u001b[0m  \u001b[0;31m# (B, n_patch, hidden)\u001b[0m\u001b[0;34m\u001b[0m\u001b[0;34m\u001b[0m\u001b[0m\n\u001b[1;32m    408\u001b[0m         \u001b[0;32mreturn\u001b[0m \u001b[0mencodedx\u001b[0m\u001b[0;34m,\u001b[0m \u001b[0mencodedy\u001b[0m\u001b[0;34m,\u001b[0m \u001b[0mattn_weights\u001b[0m\u001b[0;34m,\u001b[0m \u001b[0mfeatures\u001b[0m\u001b[0;34m\u001b[0m\u001b[0;34m\u001b[0m\u001b[0m\n",
            "\u001b[0;32m/usr/local/lib/python3.10/dist-packages/torch/nn/modules/module.py\u001b[0m in \u001b[0;36m_wrapped_call_impl\u001b[0;34m(self, *args, **kwargs)\u001b[0m\n\u001b[1;32m   1734\u001b[0m             \u001b[0;32mreturn\u001b[0m \u001b[0mself\u001b[0m\u001b[0;34m.\u001b[0m\u001b[0m_compiled_call_impl\u001b[0m\u001b[0;34m(\u001b[0m\u001b[0;34m*\u001b[0m\u001b[0margs\u001b[0m\u001b[0;34m,\u001b[0m \u001b[0;34m**\u001b[0m\u001b[0mkwargs\u001b[0m\u001b[0;34m)\u001b[0m  \u001b[0;31m# type: ignore[misc]\u001b[0m\u001b[0;34m\u001b[0m\u001b[0;34m\u001b[0m\u001b[0m\n\u001b[1;32m   1735\u001b[0m         \u001b[0;32melse\u001b[0m\u001b[0;34m:\u001b[0m\u001b[0;34m\u001b[0m\u001b[0;34m\u001b[0m\u001b[0m\n\u001b[0;32m-> 1736\u001b[0;31m             \u001b[0;32mreturn\u001b[0m \u001b[0mself\u001b[0m\u001b[0;34m.\u001b[0m\u001b[0m_call_impl\u001b[0m\u001b[0;34m(\u001b[0m\u001b[0;34m*\u001b[0m\u001b[0margs\u001b[0m\u001b[0;34m,\u001b[0m \u001b[0;34m**\u001b[0m\u001b[0mkwargs\u001b[0m\u001b[0;34m)\u001b[0m\u001b[0;34m\u001b[0m\u001b[0;34m\u001b[0m\u001b[0m\n\u001b[0m\u001b[1;32m   1737\u001b[0m \u001b[0;34m\u001b[0m\u001b[0m\n\u001b[1;32m   1738\u001b[0m     \u001b[0;31m# torchrec tests the code consistency with the following code\u001b[0m\u001b[0;34m\u001b[0m\u001b[0;34m\u001b[0m\u001b[0m\n",
            "\u001b[0;32m/usr/local/lib/python3.10/dist-packages/torch/nn/modules/module.py\u001b[0m in \u001b[0;36m_call_impl\u001b[0;34m(self, *args, **kwargs)\u001b[0m\n\u001b[1;32m   1745\u001b[0m                 \u001b[0;32mor\u001b[0m \u001b[0m_global_backward_pre_hooks\u001b[0m \u001b[0;32mor\u001b[0m \u001b[0m_global_backward_hooks\u001b[0m\u001b[0;34m\u001b[0m\u001b[0;34m\u001b[0m\u001b[0m\n\u001b[1;32m   1746\u001b[0m                 or _global_forward_hooks or _global_forward_pre_hooks):\n\u001b[0;32m-> 1747\u001b[0;31m             \u001b[0;32mreturn\u001b[0m \u001b[0mforward_call\u001b[0m\u001b[0;34m(\u001b[0m\u001b[0;34m*\u001b[0m\u001b[0margs\u001b[0m\u001b[0;34m,\u001b[0m \u001b[0;34m**\u001b[0m\u001b[0mkwargs\u001b[0m\u001b[0;34m)\u001b[0m\u001b[0;34m\u001b[0m\u001b[0;34m\u001b[0m\u001b[0m\n\u001b[0m\u001b[1;32m   1748\u001b[0m \u001b[0;34m\u001b[0m\u001b[0m\n\u001b[1;32m   1749\u001b[0m         \u001b[0mresult\u001b[0m \u001b[0;34m=\u001b[0m \u001b[0;32mNone\u001b[0m\u001b[0;34m\u001b[0m\u001b[0;34m\u001b[0m\u001b[0m\n",
            "\u001b[0;32m/content/vitcross_seg_modeling.py\u001b[0m in \u001b[0;36mforward\u001b[0;34m(self, x, y)\u001b[0m\n\u001b[1;32m    263\u001b[0m         \u001b[0my\u001b[0m \u001b[0;34m=\u001b[0m \u001b[0my\u001b[0m\u001b[0;34m.\u001b[0m\u001b[0munsqueeze\u001b[0m\u001b[0;34m(\u001b[0m\u001b[0;36m1\u001b[0m\u001b[0;34m)\u001b[0m\u001b[0;34m\u001b[0m\u001b[0;34m\u001b[0m\u001b[0m\n\u001b[1;32m    264\u001b[0m         \u001b[0;32mif\u001b[0m \u001b[0mself\u001b[0m\u001b[0;34m.\u001b[0m\u001b[0mhybrid\u001b[0m\u001b[0;34m:\u001b[0m\u001b[0;34m\u001b[0m\u001b[0;34m\u001b[0m\u001b[0m\n\u001b[0;32m--> 265\u001b[0;31m             \u001b[0mx\u001b[0m\u001b[0;34m,\u001b[0m \u001b[0my\u001b[0m\u001b[0;34m,\u001b[0m \u001b[0mfeatures\u001b[0m \u001b[0;34m=\u001b[0m \u001b[0mself\u001b[0m\u001b[0;34m.\u001b[0m\u001b[0mhybrid_model\u001b[0m\u001b[0;34m(\u001b[0m\u001b[0mx\u001b[0m\u001b[0;34m,\u001b[0m \u001b[0my\u001b[0m\u001b[0;34m)\u001b[0m\u001b[0;34m\u001b[0m\u001b[0;34m\u001b[0m\u001b[0m\n\u001b[0m\u001b[1;32m    266\u001b[0m         \u001b[0;32melse\u001b[0m\u001b[0;34m:\u001b[0m\u001b[0;34m\u001b[0m\u001b[0;34m\u001b[0m\u001b[0m\n\u001b[1;32m    267\u001b[0m             \u001b[0mfeatures\u001b[0m \u001b[0;34m=\u001b[0m \u001b[0;32mNone\u001b[0m\u001b[0;34m\u001b[0m\u001b[0;34m\u001b[0m\u001b[0m\n",
            "\u001b[0;32m/usr/local/lib/python3.10/dist-packages/torch/nn/modules/module.py\u001b[0m in \u001b[0;36m_wrapped_call_impl\u001b[0;34m(self, *args, **kwargs)\u001b[0m\n\u001b[1;32m   1734\u001b[0m             \u001b[0;32mreturn\u001b[0m \u001b[0mself\u001b[0m\u001b[0;34m.\u001b[0m\u001b[0m_compiled_call_impl\u001b[0m\u001b[0;34m(\u001b[0m\u001b[0;34m*\u001b[0m\u001b[0margs\u001b[0m\u001b[0;34m,\u001b[0m \u001b[0;34m**\u001b[0m\u001b[0mkwargs\u001b[0m\u001b[0;34m)\u001b[0m  \u001b[0;31m# type: ignore[misc]\u001b[0m\u001b[0;34m\u001b[0m\u001b[0;34m\u001b[0m\u001b[0m\n\u001b[1;32m   1735\u001b[0m         \u001b[0;32melse\u001b[0m\u001b[0;34m:\u001b[0m\u001b[0;34m\u001b[0m\u001b[0;34m\u001b[0m\u001b[0m\n\u001b[0;32m-> 1736\u001b[0;31m             \u001b[0;32mreturn\u001b[0m \u001b[0mself\u001b[0m\u001b[0;34m.\u001b[0m\u001b[0m_call_impl\u001b[0m\u001b[0;34m(\u001b[0m\u001b[0;34m*\u001b[0m\u001b[0margs\u001b[0m\u001b[0;34m,\u001b[0m \u001b[0;34m**\u001b[0m\u001b[0mkwargs\u001b[0m\u001b[0;34m)\u001b[0m\u001b[0;34m\u001b[0m\u001b[0;34m\u001b[0m\u001b[0m\n\u001b[0m\u001b[1;32m   1737\u001b[0m \u001b[0;34m\u001b[0m\u001b[0m\n\u001b[1;32m   1738\u001b[0m     \u001b[0;31m# torchrec tests the code consistency with the following code\u001b[0m\u001b[0;34m\u001b[0m\u001b[0;34m\u001b[0m\u001b[0m\n",
            "\u001b[0;32m/usr/local/lib/python3.10/dist-packages/torch/nn/modules/module.py\u001b[0m in \u001b[0;36m_call_impl\u001b[0;34m(self, *args, **kwargs)\u001b[0m\n\u001b[1;32m   1745\u001b[0m                 \u001b[0;32mor\u001b[0m \u001b[0m_global_backward_pre_hooks\u001b[0m \u001b[0;32mor\u001b[0m \u001b[0m_global_backward_hooks\u001b[0m\u001b[0;34m\u001b[0m\u001b[0;34m\u001b[0m\u001b[0m\n\u001b[1;32m   1746\u001b[0m                 or _global_forward_hooks or _global_forward_pre_hooks):\n\u001b[0;32m-> 1747\u001b[0;31m             \u001b[0;32mreturn\u001b[0m \u001b[0mforward_call\u001b[0m\u001b[0;34m(\u001b[0m\u001b[0;34m*\u001b[0m\u001b[0margs\u001b[0m\u001b[0;34m,\u001b[0m \u001b[0;34m**\u001b[0m\u001b[0mkwargs\u001b[0m\u001b[0;34m)\u001b[0m\u001b[0;34m\u001b[0m\u001b[0;34m\u001b[0m\u001b[0m\n\u001b[0m\u001b[1;32m   1748\u001b[0m \u001b[0;34m\u001b[0m\u001b[0m\n\u001b[1;32m   1749\u001b[0m         \u001b[0mresult\u001b[0m \u001b[0;34m=\u001b[0m \u001b[0;32mNone\u001b[0m\u001b[0;34m\u001b[0m\u001b[0;34m\u001b[0m\u001b[0m\n",
            "\u001b[0;32m/content/vit_seg_modeling_resnet_skip.py\u001b[0m in \u001b[0;36mforward\u001b[0;34m(self, x, y)\u001b[0m\n\u001b[1;32m    261\u001b[0m         \u001b[0mSE\u001b[0m \u001b[0;34m=\u001b[0m \u001b[0;32mTrue\u001b[0m\u001b[0;34m\u001b[0m\u001b[0;34m\u001b[0m\u001b[0m\n\u001b[1;32m    262\u001b[0m         \u001b[0;31m# SE = False\u001b[0m\u001b[0;34m\u001b[0m\u001b[0;34m\u001b[0m\u001b[0m\n\u001b[0;32m--> 263\u001b[0;31m         \u001b[0mfeatures\u001b[0m \u001b[0;34m=\u001b[0m \u001b[0;34m[\u001b[0m\u001b[0;34m]\u001b[0m\u001b[0;34m\u001b[0m\u001b[0;34m\u001b[0m\u001b[0m\n\u001b[0m\u001b[1;32m    264\u001b[0m         \u001b[0mb\u001b[0m\u001b[0;34m,\u001b[0m \u001b[0mc\u001b[0m\u001b[0;34m,\u001b[0m \u001b[0min_size\u001b[0m\u001b[0;34m,\u001b[0m \u001b[0m_\u001b[0m \u001b[0;34m=\u001b[0m \u001b[0mx\u001b[0m\u001b[0;34m.\u001b[0m\u001b[0msize\u001b[0m\u001b[0;34m(\u001b[0m\u001b[0;34m)\u001b[0m\u001b[0;34m\u001b[0m\u001b[0;34m\u001b[0m\u001b[0m\n\u001b[1;32m    265\u001b[0m \u001b[0;34m\u001b[0m\u001b[0m\n",
            "\u001b[0;32m/usr/local/lib/python3.10/dist-packages/torch/nn/modules/module.py\u001b[0m in \u001b[0;36m_wrapped_call_impl\u001b[0;34m(self, *args, **kwargs)\u001b[0m\n\u001b[1;32m   1734\u001b[0m             \u001b[0;32mreturn\u001b[0m \u001b[0mself\u001b[0m\u001b[0;34m.\u001b[0m\u001b[0m_compiled_call_impl\u001b[0m\u001b[0;34m(\u001b[0m\u001b[0;34m*\u001b[0m\u001b[0margs\u001b[0m\u001b[0;34m,\u001b[0m \u001b[0;34m**\u001b[0m\u001b[0mkwargs\u001b[0m\u001b[0;34m)\u001b[0m  \u001b[0;31m# type: ignore[misc]\u001b[0m\u001b[0;34m\u001b[0m\u001b[0;34m\u001b[0m\u001b[0m\n\u001b[1;32m   1735\u001b[0m         \u001b[0;32melse\u001b[0m\u001b[0;34m:\u001b[0m\u001b[0;34m\u001b[0m\u001b[0;34m\u001b[0m\u001b[0m\n\u001b[0;32m-> 1736\u001b[0;31m             \u001b[0;32mreturn\u001b[0m \u001b[0mself\u001b[0m\u001b[0;34m.\u001b[0m\u001b[0m_call_impl\u001b[0m\u001b[0;34m(\u001b[0m\u001b[0;34m*\u001b[0m\u001b[0margs\u001b[0m\u001b[0;34m,\u001b[0m \u001b[0;34m**\u001b[0m\u001b[0mkwargs\u001b[0m\u001b[0;34m)\u001b[0m\u001b[0;34m\u001b[0m\u001b[0;34m\u001b[0m\u001b[0m\n\u001b[0m\u001b[1;32m   1737\u001b[0m \u001b[0;34m\u001b[0m\u001b[0m\n\u001b[1;32m   1738\u001b[0m     \u001b[0;31m# torchrec tests the code consistency with the following code\u001b[0m\u001b[0;34m\u001b[0m\u001b[0;34m\u001b[0m\u001b[0m\n",
            "\u001b[0;32m/usr/local/lib/python3.10/dist-packages/torch/nn/modules/module.py\u001b[0m in \u001b[0;36m_call_impl\u001b[0;34m(self, *args, **kwargs)\u001b[0m\n\u001b[1;32m   1745\u001b[0m                 \u001b[0;32mor\u001b[0m \u001b[0m_global_backward_pre_hooks\u001b[0m \u001b[0;32mor\u001b[0m \u001b[0m_global_backward_hooks\u001b[0m\u001b[0;34m\u001b[0m\u001b[0;34m\u001b[0m\u001b[0m\n\u001b[1;32m   1746\u001b[0m                 or _global_forward_hooks or _global_forward_pre_hooks):\n\u001b[0;32m-> 1747\u001b[0;31m             \u001b[0;32mreturn\u001b[0m \u001b[0mforward_call\u001b[0m\u001b[0;34m(\u001b[0m\u001b[0;34m*\u001b[0m\u001b[0margs\u001b[0m\u001b[0;34m,\u001b[0m \u001b[0;34m**\u001b[0m\u001b[0mkwargs\u001b[0m\u001b[0;34m)\u001b[0m\u001b[0;34m\u001b[0m\u001b[0;34m\u001b[0m\u001b[0m\n\u001b[0m\u001b[1;32m   1748\u001b[0m \u001b[0;34m\u001b[0m\u001b[0m\n\u001b[1;32m   1749\u001b[0m         \u001b[0mresult\u001b[0m \u001b[0;34m=\u001b[0m \u001b[0;32mNone\u001b[0m\u001b[0;34m\u001b[0m\u001b[0;34m\u001b[0m\u001b[0m\n",
            "\u001b[0;32m/usr/local/lib/python3.10/dist-packages/torch/nn/modules/container.py\u001b[0m in \u001b[0;36mforward\u001b[0;34m(self, input)\u001b[0m\n\u001b[1;32m    248\u001b[0m     \u001b[0;32mdef\u001b[0m \u001b[0mforward\u001b[0m\u001b[0;34m(\u001b[0m\u001b[0mself\u001b[0m\u001b[0;34m,\u001b[0m \u001b[0minput\u001b[0m\u001b[0;34m)\u001b[0m\u001b[0;34m:\u001b[0m\u001b[0;34m\u001b[0m\u001b[0;34m\u001b[0m\u001b[0m\n\u001b[1;32m    249\u001b[0m         \u001b[0;32mfor\u001b[0m \u001b[0mmodule\u001b[0m \u001b[0;32min\u001b[0m \u001b[0mself\u001b[0m\u001b[0;34m:\u001b[0m\u001b[0;34m\u001b[0m\u001b[0;34m\u001b[0m\u001b[0m\n\u001b[0;32m--> 250\u001b[0;31m             \u001b[0minput\u001b[0m \u001b[0;34m=\u001b[0m \u001b[0mmodule\u001b[0m\u001b[0;34m(\u001b[0m\u001b[0minput\u001b[0m\u001b[0;34m)\u001b[0m\u001b[0;34m\u001b[0m\u001b[0;34m\u001b[0m\u001b[0m\n\u001b[0m\u001b[1;32m    251\u001b[0m         \u001b[0;32mreturn\u001b[0m \u001b[0minput\u001b[0m\u001b[0;34m\u001b[0m\u001b[0;34m\u001b[0m\u001b[0m\n\u001b[1;32m    252\u001b[0m \u001b[0;34m\u001b[0m\u001b[0m\n",
            "\u001b[0;32m/usr/local/lib/python3.10/dist-packages/torch/nn/modules/module.py\u001b[0m in \u001b[0;36m_wrapped_call_impl\u001b[0;34m(self, *args, **kwargs)\u001b[0m\n\u001b[1;32m   1734\u001b[0m             \u001b[0;32mreturn\u001b[0m \u001b[0mself\u001b[0m\u001b[0;34m.\u001b[0m\u001b[0m_compiled_call_impl\u001b[0m\u001b[0;34m(\u001b[0m\u001b[0;34m*\u001b[0m\u001b[0margs\u001b[0m\u001b[0;34m,\u001b[0m \u001b[0;34m**\u001b[0m\u001b[0mkwargs\u001b[0m\u001b[0;34m)\u001b[0m  \u001b[0;31m# type: ignore[misc]\u001b[0m\u001b[0;34m\u001b[0m\u001b[0;34m\u001b[0m\u001b[0m\n\u001b[1;32m   1735\u001b[0m         \u001b[0;32melse\u001b[0m\u001b[0;34m:\u001b[0m\u001b[0;34m\u001b[0m\u001b[0;34m\u001b[0m\u001b[0m\n\u001b[0;32m-> 1736\u001b[0;31m             \u001b[0;32mreturn\u001b[0m \u001b[0mself\u001b[0m\u001b[0;34m.\u001b[0m\u001b[0m_call_impl\u001b[0m\u001b[0;34m(\u001b[0m\u001b[0;34m*\u001b[0m\u001b[0margs\u001b[0m\u001b[0;34m,\u001b[0m \u001b[0;34m**\u001b[0m\u001b[0mkwargs\u001b[0m\u001b[0;34m)\u001b[0m\u001b[0;34m\u001b[0m\u001b[0;34m\u001b[0m\u001b[0m\n\u001b[0m\u001b[1;32m   1737\u001b[0m \u001b[0;34m\u001b[0m\u001b[0m\n\u001b[1;32m   1738\u001b[0m     \u001b[0;31m# torchrec tests the code consistency with the following code\u001b[0m\u001b[0;34m\u001b[0m\u001b[0;34m\u001b[0m\u001b[0m\n",
            "\u001b[0;32m/usr/local/lib/python3.10/dist-packages/torch/nn/modules/module.py\u001b[0m in \u001b[0;36m_call_impl\u001b[0;34m(self, *args, **kwargs)\u001b[0m\n\u001b[1;32m   1745\u001b[0m                 \u001b[0;32mor\u001b[0m \u001b[0m_global_backward_pre_hooks\u001b[0m \u001b[0;32mor\u001b[0m \u001b[0m_global_backward_hooks\u001b[0m\u001b[0;34m\u001b[0m\u001b[0;34m\u001b[0m\u001b[0m\n\u001b[1;32m   1746\u001b[0m                 or _global_forward_hooks or _global_forward_pre_hooks):\n\u001b[0;32m-> 1747\u001b[0;31m             \u001b[0;32mreturn\u001b[0m \u001b[0mforward_call\u001b[0m\u001b[0;34m(\u001b[0m\u001b[0;34m*\u001b[0m\u001b[0margs\u001b[0m\u001b[0;34m,\u001b[0m \u001b[0;34m**\u001b[0m\u001b[0mkwargs\u001b[0m\u001b[0;34m)\u001b[0m\u001b[0;34m\u001b[0m\u001b[0;34m\u001b[0m\u001b[0m\n\u001b[0m\u001b[1;32m   1748\u001b[0m \u001b[0;34m\u001b[0m\u001b[0m\n\u001b[1;32m   1749\u001b[0m         \u001b[0mresult\u001b[0m \u001b[0;34m=\u001b[0m \u001b[0;32mNone\u001b[0m\u001b[0;34m\u001b[0m\u001b[0;34m\u001b[0m\u001b[0m\n",
            "\u001b[0;32m/content/vit_seg_modeling_resnet_skip.py\u001b[0m in \u001b[0;36mforward\u001b[0;34m(self, x)\u001b[0m\n\u001b[1;32m     53\u001b[0m         \u001b[0mv\u001b[0m\u001b[0;34m,\u001b[0m \u001b[0mm\u001b[0m \u001b[0;34m=\u001b[0m \u001b[0mtorch\u001b[0m\u001b[0;34m.\u001b[0m\u001b[0mvar_mean\u001b[0m\u001b[0;34m(\u001b[0m\u001b[0mw\u001b[0m\u001b[0;34m,\u001b[0m \u001b[0mdim\u001b[0m\u001b[0;34m=\u001b[0m\u001b[0;34m[\u001b[0m\u001b[0;36m1\u001b[0m\u001b[0;34m,\u001b[0m \u001b[0;36m2\u001b[0m\u001b[0;34m,\u001b[0m \u001b[0;36m3\u001b[0m\u001b[0;34m]\u001b[0m\u001b[0;34m,\u001b[0m \u001b[0mkeepdim\u001b[0m\u001b[0;34m=\u001b[0m\u001b[0;32mTrue\u001b[0m\u001b[0;34m,\u001b[0m \u001b[0munbiased\u001b[0m\u001b[0;34m=\u001b[0m\u001b[0;32mFalse\u001b[0m\u001b[0;34m)\u001b[0m\u001b[0;34m\u001b[0m\u001b[0;34m\u001b[0m\u001b[0m\n\u001b[1;32m     54\u001b[0m         \u001b[0mw\u001b[0m \u001b[0;34m=\u001b[0m \u001b[0;34m(\u001b[0m\u001b[0mw\u001b[0m \u001b[0;34m-\u001b[0m \u001b[0mm\u001b[0m\u001b[0;34m)\u001b[0m \u001b[0;34m/\u001b[0m \u001b[0mtorch\u001b[0m\u001b[0;34m.\u001b[0m\u001b[0msqrt\u001b[0m\u001b[0;34m(\u001b[0m\u001b[0mv\u001b[0m \u001b[0;34m+\u001b[0m \u001b[0;36m1e-5\u001b[0m\u001b[0;34m)\u001b[0m\u001b[0;34m\u001b[0m\u001b[0;34m\u001b[0m\u001b[0m\n\u001b[0;32m---> 55\u001b[0;31m         \u001b[0mprint\u001b[0m\u001b[0;34m(\u001b[0m\u001b[0mw\u001b[0m\u001b[0;34m)\u001b[0m\u001b[0;34m\u001b[0m\u001b[0;34m\u001b[0m\u001b[0m\n\u001b[0m\u001b[1;32m     56\u001b[0m         \u001b[0mprint\u001b[0m\u001b[0;34m(\u001b[0m\u001b[0mx\u001b[0m\u001b[0;34m)\u001b[0m\u001b[0;34m\u001b[0m\u001b[0;34m\u001b[0m\u001b[0m\n\u001b[1;32m     57\u001b[0m         return F.conv2d(x, w, self.bias, self.stride, self.padding,\n",
            "\u001b[0;31mRuntimeError\u001b[0m: Given groups=1, weight of size [64, 3, 7, 7], expected input[32, 32, 32, 12] to have 3 channels, but got 32 channels instead"
          ]
        }
      ]
    },
    {
      "cell_type": "markdown",
      "source": [
        "## Plot loss functions"
      ],
      "metadata": {
        "id": "UmlMlGepWSxj"
      }
    },
    {
      "cell_type": "code",
      "source": [
        "def plot_train_and_val_losses(train_losses, val_losses):\n",
        "    fig, axs = plt.subplots(1, 2, figsize=(10, 5))\n",
        "\n",
        "    axs[0].plot(train_losses)\n",
        "    axs[0].set_title(\"train loss\")\n",
        "\n",
        "    axs[1].plot(val_losses)\n",
        "    axs[1].set_title(\"validation loss\")\n",
        "\n",
        "    plt.show()\n",
        "\n",
        "\n",
        "plot_train_and_val_losses(train_losses, val_losses)"
      ],
      "metadata": {
        "execution": {
          "iopub.status.busy": "2024-04-12T22:30:41.742544Z",
          "iopub.execute_input": "2024-04-12T22:30:41.743235Z",
          "iopub.status.idle": "2024-04-12T22:30:42.099387Z",
          "shell.execute_reply.started": "2024-04-12T22:30:41.743198Z",
          "shell.execute_reply": "2024-04-12T22:30:42.098675Z"
        },
        "trusted": true,
        "id": "3IiHfeMgWSxj"
      },
      "execution_count": null,
      "outputs": []
    },
    {
      "cell_type": "markdown",
      "source": [
        "# Testing"
      ],
      "metadata": {
        "id": "_UhZBzmNWSxj"
      }
    },
    {
      "cell_type": "code",
      "source": [
        "# Load best model\n",
        "segmentation_model = build_CNN_AE_model()\n",
        "segmentation_model.load_weights(\"best.h5\")"
      ],
      "metadata": {
        "execution": {
          "iopub.status.busy": "2024-04-12T22:30:46.024414Z",
          "iopub.execute_input": "2024-04-12T22:30:46.024677Z",
          "iopub.status.idle": "2024-04-12T22:30:47.808858Z",
          "shell.execute_reply.started": "2024-04-12T22:30:46.024648Z",
          "shell.execute_reply": "2024-04-12T22:30:47.80823Z"
        },
        "trusted": true,
        "id": "QcXbJGqRWSxj"
      },
      "execution_count": null,
      "outputs": []
    },
    {
      "cell_type": "markdown",
      "source": [
        "## Metrics on test set\n",
        "Calculating metrics on test set"
      ],
      "metadata": {
        "id": "GOYtJk9UWSxj"
      }
    },
    {
      "cell_type": "code",
      "source": [
        "print(\"Evaluation...\")\n",
        "print(\"Test set metrics:\")\n",
        "IoU, recall, precision, val_loss = evaluate_model(lambda x: tf.where(segmentation_model.predict(x) > 0.5, 1, 0)[:,:,:,0], test_dataset)\n",
        "print(f\"Mean IoU: {IoU}\\nMean precision: {precision}\\nMean recall: {recall}\\nTest loss: {val_loss}\")"
      ],
      "metadata": {
        "execution": {
          "iopub.status.busy": "2024-04-12T22:30:51.554002Z",
          "iopub.execute_input": "2024-04-12T22:30:51.554282Z",
          "iopub.status.idle": "2024-04-12T22:30:59.339152Z",
          "shell.execute_reply.started": "2024-04-12T22:30:51.554249Z",
          "shell.execute_reply": "2024-04-12T22:30:59.338387Z"
        },
        "trusted": true,
        "id": "RKs4ck1VWSxj"
      },
      "execution_count": null,
      "outputs": []
    },
    {
      "cell_type": "markdown",
      "source": [
        "## Comparison with statistical model\n",
        "How better is our model in comparison of prediction of only high frequency fire cells (>0.2 probability of being on fire)"
      ],
      "metadata": {
        "id": "QLmqZQPcWSxk"
      }
    },
    {
      "cell_type": "code",
      "source": [
        "class NaivePredictor:\n",
        "    \"\"\"\n",
        "    Naive predictor that predicts fire only if cell has chance being on fire more than 0.2\n",
        "    \"\"\"\n",
        "    def __init__(self) -> None:\n",
        "        \"\"\"\n",
        "        Initialize model and create frequency matrix\n",
        "        \"\"\"\n",
        "        self.frequency_matrix = tf.zeros((32, 32), dtype=np.float32)\n",
        "\n",
        "    def train(self, train_dataset: tf.data.Dataset) -> None:\n",
        "        \"\"\"\n",
        "        Train by calculating frequency for each cell.\n",
        "\n",
        "        Args:\n",
        "            train_dataset (Dataset): Dataset to train on.\n",
        "        \"\"\"\n",
        "        for _, labels in tqdm(train_dataset):\n",
        "            label_batch = labels[:, :, :, 0]\n",
        "            label_batch = tf.where(label_batch < 0, 0, label_batch)\n",
        "            self.frequency_matrix = self.frequency_matrix + np.sum(label_batch, axis=0)\n",
        "        self.frequency_matrix = self.frequency_matrix / np.max(self.frequency_matrix)\n",
        "        self.frequency_matrix = tf.where(self.frequency_matrix > 0.2, 1, 0)\n",
        "\n",
        "    def predict(self, X: tf.Tensor) -> tf.Tensor:\n",
        "        \"\"\"\n",
        "        Dummy predict function.\n",
        "\n",
        "        Args:\n",
        "            train_dataset (Dataset): Dataset to train on.\n",
        "        Returns:\n",
        "            (Tensor): Predicted fire mask.\n",
        "        \"\"\"\n",
        "        return tf.tile(tf.expand_dims(self.frequency_matrix, axis=0), [X.shape[0],1,1])\n",
        "\n",
        "naive_predictor = NaivePredictor()\n",
        "naive_predictor.train(train_dataset)"
      ],
      "metadata": {
        "execution": {
          "iopub.status.busy": "2024-04-12T22:31:02.727635Z",
          "iopub.execute_input": "2024-04-12T22:31:02.728296Z",
          "iopub.status.idle": "2024-04-12T22:31:06.395603Z",
          "shell.execute_reply.started": "2024-04-12T22:31:02.728257Z",
          "shell.execute_reply": "2024-04-12T22:31:06.39464Z"
        },
        "trusted": true,
        "id": "pSAyyGbTWSxp"
      },
      "execution_count": null,
      "outputs": []
    },
    {
      "cell_type": "code",
      "source": [
        "IoU, recall, precision, val_loss = evaluate_model(naive_predictor.predict, test_dataset)\n",
        "print(f\"Mean IoU: {IoU}\\nMean precision: {precision}\\nMean recall: {recall}\\nTest loss: {val_loss}\")"
      ],
      "metadata": {
        "execution": {
          "iopub.status.busy": "2024-04-12T22:31:06.397409Z",
          "iopub.execute_input": "2024-04-12T22:31:06.397667Z",
          "iopub.status.idle": "2024-04-12T22:31:10.05263Z",
          "shell.execute_reply.started": "2024-04-12T22:31:06.397632Z",
          "shell.execute_reply": "2024-04-12T22:31:10.051841Z"
        },
        "trusted": true,
        "id": "FoCQl3OMWSxq"
      },
      "execution_count": null,
      "outputs": []
    },
    {
      "cell_type": "markdown",
      "source": [
        "Compare trained model with Naive one: <br/>\n",
        "1. <font color=\"green\">IoU 23% better</font>\n",
        "2. <font color=\"green\">Precision 47% better</font>\n",
        "3. <font color=\"red\">Recall 50% worse</font>"
      ],
      "metadata": {
        "id": "Tl0hVdJxWSxq"
      }
    },
    {
      "cell_type": "markdown",
      "source": [
        "# Inference on test set"
      ],
      "metadata": {
        "id": "BxiK69muWSxq"
      }
    },
    {
      "cell_type": "code",
      "source": [
        "def show_inference(n_rows: int, features: tf.Tensor, label: tf.Tensor, prediction_function: Callable[[tf.Tensor], tf.Tensor]) -> None:\n",
        "    \"\"\"\n",
        "    Show model inference through images.\n",
        "\n",
        "    Args:\n",
        "        n_rows (int): Number of rows for subplots.\n",
        "        features (tf.Tensor): Input features.\n",
        "        label (tf.Tensor): True labels.\n",
        "        prediction_function (Callable[[tf.Tensor], tf.Tensor]): Function for model prediction.\n",
        "    \"\"\"\n",
        "\n",
        "    # Variables for controllong the color map for the fire masks\n",
        "    CMAP = colors.ListedColormap(['black', 'silver', 'orangered'])\n",
        "    BOUNDS = [-1, -0.1, 0.001, 1]\n",
        "    NORM = colors.BoundaryNorm(BOUNDS, CMAP.N)\n",
        "\n",
        "    fig = plt.figure(figsize=(15,n_rows*4))\n",
        "\n",
        "    prediction = prediction_function(features)\n",
        "    for i in range(n_rows):\n",
        "        plt.subplot(n_rows, 3, i*3 + 1)\n",
        "        plt.title(\"Previous day fire\")\n",
        "        plt.imshow(features[i, :, :, -1], cmap=CMAP, norm=NORM)\n",
        "        plt.axis('off')\n",
        "        plt.subplot(n_rows, 3, i*3 + 2)\n",
        "        plt.title(\"True next day fire\")\n",
        "        plt.imshow(label[i, :, :, 0], cmap=CMAP, norm=NORM)\n",
        "        plt.axis('off')\n",
        "        plt.subplot(n_rows, 3, i*3 + 3)\n",
        "        plt.title(\"Predicted next day fire\")\n",
        "        plt.imshow(prediction[i, :, :])\n",
        "        plt.axis('off')\n",
        "    plt.tight_layout()"
      ],
      "metadata": {
        "execution": {
          "iopub.status.busy": "2024-04-12T22:32:35.425283Z",
          "iopub.execute_input": "2024-04-12T22:32:35.426097Z",
          "iopub.status.idle": "2024-04-12T22:32:35.436154Z",
          "shell.execute_reply.started": "2024-04-12T22:32:35.426053Z",
          "shell.execute_reply": "2024-04-12T22:32:35.435514Z"
        },
        "trusted": true,
        "id": "KDeUKUuOWSxq"
      },
      "execution_count": null,
      "outputs": []
    },
    {
      "cell_type": "code",
      "source": [
        "features, labels = next(iter(test_dataset))\n",
        "show_inference(5, features, labels, lambda x: tf.where(segmentation_model.predict(x) > 0.5, 1, 0)[:,:,:,0])"
      ],
      "metadata": {
        "execution": {
          "iopub.status.busy": "2024-04-12T22:33:54.54513Z",
          "iopub.execute_input": "2024-04-12T22:33:54.545807Z",
          "iopub.status.idle": "2024-04-12T22:33:55.740149Z",
          "shell.execute_reply.started": "2024-04-12T22:33:54.545763Z",
          "shell.execute_reply": "2024-04-12T22:33:55.739422Z"
        },
        "trusted": true,
        "id": "NhDILmnCWSxq"
      },
      "execution_count": null,
      "outputs": []
    },
    {
      "cell_type": "code",
      "source": [],
      "metadata": {
        "id": "hfA5RxPzWSxq"
      },
      "execution_count": null,
      "outputs": []
    }
  ]
}
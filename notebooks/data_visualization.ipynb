{
 "cells": [
  {
   "cell_type": "markdown",
   "metadata": {},
   "source": [
    "## Imports"
   ]
  },
  {
   "cell_type": "code",
   "execution_count": null,
   "metadata": {},
   "outputs": [
    {
     "ename": "ModuleNotFoundError",
     "evalue": "No module named 'data_utils'",
     "output_type": "error",
     "traceback": [
      "\u001b[0;31m---------------------------------------------------------------------------\u001b[0m",
      "\u001b[0;31mModuleNotFoundError\u001b[0m                       Traceback (most recent call last)",
      "Cell \u001b[0;32mIn[3], line 1\u001b[0m\n\u001b[0;32m----> 1\u001b[0m \u001b[38;5;28;01mfrom\u001b[39;00m \u001b[38;5;21;01mdata_utils\u001b[39;00m \u001b[38;5;28;01mimport\u001b[39;00m augs\n",
      "\u001b[0;31mModuleNotFoundError\u001b[0m: No module named 'data_utils'"
     ]
    }
   ],
   "source": [
    "import matplotlib.pyplot as plt\n",
    "from matplotlib import colors\n",
    "\n",
    "n_rows =5\n",
    "dataset = \n",
    "# Get batch\n",
    "inputs, labels = None, None\n",
    "for elem in dataset:\n",
    "    inputs, labels = elem\n",
    "    break\n",
    "fig = plt.figure(figsize=(15,6.5))\n",
    "# Variables for controllong the color map for the fire masks\n",
    "CMAP = colors.ListedColormap(['black', 'silver', 'orangered'])\n",
    "BOUNDS = [-1, -0.1, 0.001, 1]\n",
    "NORM = colors.BoundaryNorm(BOUNDS, CMAP.N)\n",
    "# Number of data variables\n",
    "n_features = 12\n",
    "for i in range(n_rows):\n",
    "    for j in range(n_features + 1):\n",
    "        plt.subplot(n_rows, n_features + 1, i * (n_features + 1) + j + 1)\n",
    "        if i == 0:\n",
    "            plt.title(TITLES[j], fontsize=13)\n",
    "        if j < n_features - 1:\n",
    "            plt.imshow(inputs[i, :, :, j], cmap='viridis')\n",
    "        if j == n_features - 1:\n",
    "            plt.imshow(inputs[i, :, :, -1], cmap=CMAP, norm=NORM)\n",
    "        if j == n_features:\n",
    "            plt.imshow(labels[i, :, :, 0], cmap=CMAP, norm=NORM)\n",
    "        plt.axis('off')\n",
    "plt.tight_layout()\n"
   ]
  }
 ],
 "metadata": {
  "kernelspec": {
   "display_name": "fire_mask",
   "language": "python",
   "name": "python3"
  },
  "language_info": {
   "codemirror_mode": {
    "name": "ipython",
    "version": 3
   },
   "file_extension": ".py",
   "mimetype": "text/x-python",
   "name": "python",
   "nbconvert_exporter": "python",
   "pygments_lexer": "ipython3",
   "version": "undefined.undefined.undefined"
  }
 },
 "nbformat": 4,
 "nbformat_minor": 2
}
